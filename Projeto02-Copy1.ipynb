{
 "cells": [
  {
   "cell_type": "markdown",
   "metadata": {},
   "source": [
    "# Projeto 2 - Classificador Automático de Sentimento\n",
    "\n",
    "Você foi contratado por uma empresa parar analisar como os clientes estão reagindo a um determinado produto no Twitter. A empresa deseja que você crie um programa que irá analisar as mensagens disponíveis e classificará como \"relevante\" ou \"irrelevante\". Com isso ela deseja que mensagens negativas, que denigrem o nome do produto, ou que mereçam destaque, disparem um foco de atenção da área de marketing.<br /><br />\n",
    "Como aluno de Ciência dos Dados, você lembrou do Teorema de Bayes, mais especificamente do Classificador Naive-Bayes, que é largamente utilizado em filtros anti-spam de e-mails. O classificador permite calcular qual a probabilidade de uma mensagem ser relevante dadas as palavras em seu conteúdo.<br /><br />\n",
    "Para realizar o MVP (*minimum viable product*) do projeto, você precisa implementar uma versão do classificador que \"aprende\" o que é relevante com uma base de treinamento e compara a performance dos resultados com uma base de testes.<br /><br />\n",
    "Após validado, o seu protótipo poderá também capturar e classificar automaticamente as mensagens da plataforma.\n",
    "\n",
    "## Informações do Projeto\n",
    "\n",
    "Prazo: 13/Set até às 23:59.<br />\n",
    "Grupo: Victor Sznifer Leibovicius e Alessandra Blucher.<br /><br />\n",
    "Entregáveis via GitHub: \n",
    "* Arquivo notebook com o código do classificador, seguindo as orientações abaixo.\n",
    "* Arquivo Excel com as bases de treinamento e teste totalmente classificado.\n",
    "\n",
    "**NÃO disponibilizar o arquivo com os *access keys/tokens* do Twitter.**\n",
    "\n",
    "\n",
    "### Check 3: \n",
    "\n",
    "Até o dia 06 de Setembro às 23:59, o notebook e o xlsx devem estar no Github com as seguintes evidências: \n",
    "    * Conta no twitter criada.\n",
    "    * Produto escolhido.\n",
    "    * Arquivo Excel contendo a base de treinamento e teste já classificado.\n",
    "    \n",
    "\n",
    "Sugestão de leitura:<br />\n",
    "http://docs.tweepy.org/en/v3.5.0/index.html<br />\n",
    "https://monkeylearn.com/blog/practical-explanation-naive-bayes-classifier/"
   ]
  },
  {
   "cell_type": "markdown",
   "metadata": {},
   "source": [
    "___\n",
    "\n",
    "## Preparando o ambiente\n",
    "\n",
    "Instalando a biblioteca *tweepy* para realizar a conexão com o Twitter:"
   ]
  },
  {
   "cell_type": "code",
   "execution_count": 10,
   "metadata": {
    "collapsed": true
   },
   "outputs": [],
   "source": [
    "%%capture\n",
    "\n",
    "#Instalando o tweepy\n",
    "!pip install tweepy"
   ]
  },
  {
   "cell_type": "markdown",
   "metadata": {},
   "source": [
    "Importando as Bibliotecas que serão utilizadas. Esteja livre para adicionar outras."
   ]
  },
  {
   "cell_type": "code",
   "execution_count": 11,
   "metadata": {
    "collapsed": true
   },
   "outputs": [],
   "source": [
    "import tweepy\n",
    "import math\n",
    "import os.path\n",
    "import pandas as pd\n",
    "import json\n",
    "from random import shuffle"
   ]
  },
  {
   "cell_type": "markdown",
   "metadata": {},
   "source": [
    "___\n",
    "## Autenticando no  Twitter\n",
    "\n",
    "Para realizar a captura dos dados é necessário ter uma conta cadastrada no twitter:\n",
    "\n",
    "* Conta: project_twocd\n",
    "\n",
    "\n",
    "1. Caso ainda não tenha uma: https://twitter.com/signup\n",
    "1. Depois é necessário registrar um app para usar a biblioteca: https://apps.twitter.com/\n",
    "1. Dentro do registro do App, na aba Keys and Access Tokens, anotar os seguintes campos:\n",
    "    1. Consumer Key (API Key)--   g4gITvNPFN5S2WJ8FseSKRah8\n",
    "    1. Consumer Secret (API Secret) -- InRrTZALEMZ9owMSh9BH6mdiGJxywJQ4kKlOlvCQnU7ZMcLfkW\n",
    "1. Mais abaixo, gere um Token e anote também:\n",
    "    1. Access Token --  905123126941536257-W88x7exx7pDDM4NGM9DyYVJbKqGvFTH\n",
    "    1. Access Token Secret --   4fsABI2ri7rhNvsUdy3HK8kJrfpgtdJQ7IQuj7oybnWN9\n",
    "    \n",
    "1. Preencha os valores no arquivo \"auth.pass\"\n",
    "\n",
    "**ATENÇÃO**: Nunca divulgue os dados desse arquivo online (GitHub, etc). Ele contém as chaves necessárias para realizar as operações no twitter de forma automática e portanto é equivalente a ser \"hackeado\". De posse desses dados, pessoas mal intencionadas podem fazer todas as operações manuais (tweetar, seguir, bloquear/desbloquear, listar os seguidores, etc). Para efeito do projeto, esse arquivo não precisa ser entregue!!!"
   ]
  },
  {
   "cell_type": "code",
   "execution_count": 12,
   "metadata": {
    "collapsed": true
   },
   "outputs": [],
   "source": [
    "#Dados de autenticação do twitter:\n",
    "\n",
    "#Coloque aqui o identificador da conta no twitter: @project_twocd\n",
    "\n",
    "#leitura do arquivo no formato JSON\n",
    "with open('auth.pass') as fp:    \n",
    "    data = json.load(fp)\n",
    "\n",
    "#Configurando a biblioteca. Não modificar\n",
    "auth = tweepy.OAuthHandler(data['consumer_key'], data['consumer_secret'])\n",
    "auth.set_access_token(data['access_token'], data['access_token_secret'])"
   ]
  },
  {
   "cell_type": "markdown",
   "metadata": {},
   "source": [
    "___\n",
    "## Coletando Dados\n",
    "\n",
    "Agora vamos coletar os dados. Tenha em mente que dependendo do produto escolhido, não haverá uma quantidade significativa de mensagens, ou ainda poder haver muitos retweets.<br /><br /> \n",
    "Configurando:"
   ]
  },
  {
   "cell_type": "code",
   "execution_count": 13,
   "metadata": {
    "collapsed": true
   },
   "outputs": [],
   "source": [
    "#Produto escolhido:\n",
    "produto = 'McDonalds'\n",
    "\n",
    "#Quantidade mínima de mensagens capturadas:\n",
    "n = 500\n",
    "#Quantidade mínima de mensagens para a base de treinamento:\n",
    "t = 300\n",
    "\n",
    "#Filtro de língua, escolha uma na tabela ISO 639-1.\n",
    "lang = 'pt'"
   ]
  },
  {
   "cell_type": "markdown",
   "metadata": {},
   "source": [
    "Capturando os dados do twitter:"
   ]
  },
  {
   "cell_type": "code",
   "execution_count": 14,
   "metadata": {
    "collapsed": true
   },
   "outputs": [],
   "source": [
    "#Cria um objeto para a captura\n",
    "api = tweepy.API(auth)\n",
    "\n",
    "#Inicia a captura, para mais detalhes: ver a documentação do tweepy\n",
    "i = 1\n",
    "msgs = []\n",
    "for msg in tweepy.Cursor(api.search, q=produto, lang=lang).items():    \n",
    "    msgs.append(msg.text.lower())\n",
    "    i += 1\n",
    "    if i > n:\n",
    "        break\n",
    "\n",
    "#Embaralhando as mensagens para reduzir um possível viés\n",
    "shuffle(msgs)"
   ]
  },
  {
   "cell_type": "markdown",
   "metadata": {},
   "source": [
    "Salvando os dados em uma planilha Excel:"
   ]
  },
  {
   "cell_type": "code",
   "execution_count": 15,
   "metadata": {
    "collapsed": true
   },
   "outputs": [],
   "source": [
    "#Verifica se o arquivo não existe para não substituir um conjunto pronto\n",
    "if not os.path.isfile('./{0}.xlsx'.format(produto)):\n",
    "    \n",
    "    #Abre o arquivo para escrita\n",
    "    writer = pd.ExcelWriter('{0}.xlsx'.format(produto))\n",
    "\n",
    "    #divide o conjunto de mensagens em duas planilhas\n",
    "    dft = pd.DataFrame({'Treinamento' : pd.Series(msgs[:t])})\n",
    "    dft.to_excel(excel_writer = writer, sheet_name = 'Treinamento', index = False)\n",
    "\n",
    "    dfc = pd.DataFrame({'Teste' : pd.Series(msgs[t:])})\n",
    "    dfc.to_excel(excel_writer = writer, sheet_name = 'Teste', index = False)\n",
    "\n",
    "    #fecha o arquivo\n",
    "    writer.save()"
   ]
  },
  {
   "cell_type": "markdown",
   "metadata": {},
   "source": [
    "___\n",
    "## Classificando as Mensagens\n",
    "\n",
    "Agora você deve abrir o arquivo Excel com as mensagens capturadas e classificar na Coluna B se a mensagem é relevante ou não.<br /> \n",
    "Não se esqueça de colocar um nome para a coluna na célula **B1**.<br /><br />\n",
    "Fazer o mesmo na planilha de Controle.\n",
    "\n",
    "___\n",
    "## Montando o Classificador Naive-Bayes\n",
    "\n",
    "Com a base de treinamento montada, comece a desenvolver o classificador. Escreva o seu código abaixo:\n",
    "\n",
    "Opcionalmente: \n",
    "* Limpar as mensagens removendo os caracteres: enter, :, \", ', (, ), etc. Não remover emojis.<br />\n",
    "* Corrigir separação de espaços entre palavras e/ou emojis.\n",
    "* Propor outras limpezas/transformações que não afetem a qualidade da informação.\n",
    "\n"
   ]
  },
  {
   "cell_type": "code",
   "execution_count": 38,
   "metadata": {},
   "outputs": [
    {
     "data": {
      "text/html": [
       "<div>\n",
       "<style>\n",
       "    .dataframe thead tr:only-child th {\n",
       "        text-align: right;\n",
       "    }\n",
       "\n",
       "    .dataframe thead th {\n",
       "        text-align: left;\n",
       "    }\n",
       "\n",
       "    .dataframe tbody tr th {\n",
       "        vertical-align: top;\n",
       "    }\n",
       "</style>\n",
       "<table border=\"1\" class=\"dataframe\">\n",
       "  <thead>\n",
       "    <tr style=\"text-align: right;\">\n",
       "      <th></th>\n",
       "      <th>Treinamento</th>\n",
       "      <th>Relevância</th>\n",
       "    </tr>\n",
       "  </thead>\n",
       "  <tbody>\n",
       "    <tr>\n",
       "      <th>0</th>\n",
       "      <td>i'm at @mcdonalds_br in taboão da serra, sp ht...</td>\n",
       "      <td>0</td>\n",
       "    </tr>\n",
       "    <tr>\n",
       "      <th>1</th>\n",
       "      <td>rt @mcdonalds_br: um encontro com muita coisa ...</td>\n",
       "      <td>1</td>\n",
       "    </tr>\n",
       "    <tr>\n",
       "      <th>2</th>\n",
       "      <td>funcionário do mcdonalds fazem greve inédita n...</td>\n",
       "      <td>0</td>\n",
       "    </tr>\n",
       "    <tr>\n",
       "      <th>3</th>\n",
       "      <td>rt @vejasp: mcdonald’s lança duas novas sobrem...</td>\n",
       "      <td>0</td>\n",
       "    </tr>\n",
       "    <tr>\n",
       "      <th>4</th>\n",
       "      <td>@mcdonalds_br fazer uns bonequinhos do exo com...</td>\n",
       "      <td>0</td>\n",
       "    </tr>\n",
       "  </tbody>\n",
       "</table>\n",
       "</div>"
      ],
      "text/plain": [
       "                                         Treinamento  Relevância\n",
       "0  i'm at @mcdonalds_br in taboão da serra, sp ht...           0\n",
       "1  rt @mcdonalds_br: um encontro com muita coisa ...           1\n",
       "2  funcionário do mcdonalds fazem greve inédita n...           0\n",
       "3  rt @vejasp: mcdonald’s lança duas novas sobrem...           0\n",
       "4  @mcdonalds_br fazer uns bonequinhos do exo com...           0"
      ]
     },
     "execution_count": 38,
     "metadata": {},
     "output_type": "execute_result"
    }
   ],
   "source": [
    "#total = pd.ExcelFile('McDonalds(1).xlsx')\n",
    "#treinamento = pd.read_excel(total, 'Treinamento')\n",
    "#teste = pd.read_excel(total, 'Teste')\n",
    "\n",
    "excel = pd.read_excel('McDonalds(1).xlsx')\n",
    "total = pd.DataFrame(excel.loc[:, [\"Treinamento\", \"Relevância\"]])\n",
    "\n",
    "relevantes = excel[excel.Relevância==1]\n",
    "irrelevantes = excel[excel.Relevância==0]\n",
    "total.head(5)"
   ]
  },
  {
   "cell_type": "code",
   "execution_count": 39,
   "metadata": {
    "collapsed": true
   },
   "outputs": [],
   "source": [
    "palavras_relevantes = []\n",
    "palavras_relevantes_sem_repetidas = []\n",
    "palavras_relevantes_certo = []\n",
    "superfulos = [',',';','.','!','?',\"(\",\")\", ':', '\"', \"'\"]"
   ]
  },
  {
   "cell_type": "code",
   "execution_count": 40,
   "metadata": {},
   "outputs": [],
   "source": [
    "\n",
    "for i in relevantes.Treinamento:\n",
    "    a=i.split()\n",
    "    for y in a:\n",
    "        if y not in superfulos:\n",
    "            palavras_relevantes.append(y)\n",
    "#print(palavras_relevantes)\n",
    "\n",
    "for b in palavras_relevantes:\n",
    "    if b not in palavras_relevantes_sem_repetidas:\n",
    "        palavras_relevantes_sem_repetidas.append(b)\n",
    "\n",
    "for q in range(len(palavras_relevantes_sem_repetidas)):\n",
    "    variavel = ''.join(palavras_relevantes_sem_repetidas[q])\n",
    "    if len(variavel)!=0:\n",
    "        if variavel[0] !='@' and variavel!= 'rt' and variavel[0:5]!='https':\n",
    "            palavras_relevantes_certo.append(variavel)\n",
    "        \n",
    "n_palavras_relevantes_sem_repetidas=len(palavras_relevantes)\n",
    "#print(palavras_relevantes_certo)"
   ]
  },
  {
   "cell_type": "code",
   "execution_count": 41,
   "metadata": {},
   "outputs": [],
   "source": [
    "palavras_irrelevantes = []\n",
    "palavras_irrelevantes_sem_repetidas = []\n",
    "palavras_irrelevantes_certo = []\n",
    "superfulos = [',',';','.','!','?',\"(\",\")\", ':', '\"', \"'\"]\n",
    "\n",
    "for i in irrelevantes.Treinamento:\n",
    "    a=i.split()\n",
    "    for y in a:\n",
    "        if y not in superfulos:\n",
    "            palavras_irrelevantes.append(y)\n",
    "#print(palavras_relevantes)\n",
    "\n",
    "for b in palavras_irrelevantes:\n",
    "    if b not in palavras_irrelevantes_sem_repetidas:\n",
    "        palavras_irrelevantes_sem_repetidas.append(b)\n",
    "\n",
    "for q in range(len(palavras_irrelevantes_sem_repetidas)):\n",
    "    variavel = ''.join(palavras_irrelevantes_sem_repetidas[q])\n",
    "    if len(variavel)!=0:\n",
    "        if variavel[0] !='@' and variavel!= 'rt' and variavel[0:5]!='https':\n",
    "            palavras_irrelevantes_certo.append(variavel)\n",
    "        \n",
    "n_palavras_irrelevantes_sem_repetidas=len(palavras_irrelevantes)\n",
    "#print(palavras_irrelevantes_certo)"
   ]
  },
  {
   "cell_type": "code",
   "execution_count": 42,
   "metadata": {},
   "outputs": [],
   "source": [
    "# CONTAGEM DE PALAVRAS NO TOTAL PARA CASOS RELEVANTES E IRRELEVANTES\n",
    "\n",
    "palavras_total = [] #lista de todas palavras nos tweets\n",
    "palavras_nao_repetidas = [] #lista de palavras nos tweets sem repetição\n",
    "\n",
    "for i in excel.Treinamento: #código que adiciona todas palavras em uma lista das palavras\n",
    "    a=i.split()\n",
    "    for j in a:\n",
    "        r=list(j)\n",
    "        for u in r:\n",
    "            if u in remover:\n",
    "                r.remove(u)\n",
    "        e=''.join(r)\n",
    "        palavras_total.append(e)\n",
    "                \n",
    "for t in palavras_total: #código que adiciona todas palavras encontradas em uma lista, porém SEM repetição\n",
    "    if t not in palavras_nao_repetidas:\n",
    "        palavras_nao_repetidas.append(t)\n",
    "        \n",
    "numero_nao_repetidas=len(palavras_nao_repetidas)"
   ]
  },
  {
   "cell_type": "code",
   "execution_count": 43,
   "metadata": {},
   "outputs": [],
   "source": [
    "#DEFININDO A FUNÇÃO QUE CALCULA PROBABILIDADE, RECEBENDO UMA FRASE (TWEET) COMO PARÂMETRO\n",
    "# A FUNÇÃO RETORNA \"RELEVANTE\" SE A PROBABILIDADE DO TWEET SER RELEVANTE FOR MAIOR DO QUE A PROBABILIDADE SE FOR IRRELEVANTE\n",
    "# A FUNÇÃO RETORNA \"IRRELEVANTE\" SE A PROBABILIDADE DO TWEET SER IRRELEVANTE FOR MAIOR DO QUE A PROBABILIDADE SE FOR RELEVANTE\n",
    "\n",
    "def prob(frase):\n",
    "    lista_pr = []\n",
    "    lista_pi = []\n",
    "    probrel=1\n",
    "    probirrel=1\n",
    "    somar=0\n",
    "    somai=0\n",
    "    split=frase.split()\n",
    "    for i in split:\n",
    "        if i in lista_relevantes:\n",
    "            somar+=1\n",
    "        pr=(1+somar)/(numero_nao_repetidas+numero_nao_repetidas_relevantes)\n",
    "        lista_pr.append(pr)\n",
    "    for y in range(len(lista_pr)):\n",
    "        probrel=probrel*lista_pr[y]\n",
    "    \n",
    "    for f in split:\n",
    "        if f in lista_irrelevantes:\n",
    "            somai+=1\n",
    "        pi=(1+somai)/(numero_nao_repetidas+numero_nao_repetidas_irrelevantes)\n",
    "        lista_pi.append(pi)\n",
    "    for w in range(len(lista_pi)):\n",
    "        probirrel=probirrel*lista_pi[w]\n",
    "        \n",
    "    if probrel > probirrel:\n",
    "        return \"Relevante\"\n",
    "    elif probrel < probirrel:\n",
    "        return \"Irrelevante\""
   ]
  },
  {
   "cell_type": "code",
   "execution_count": null,
   "metadata": {},
   "outputs": [],
   "source": []
  },
  {
   "cell_type": "code",
   "execution_count": null,
   "metadata": {
    "collapsed": true
   },
   "outputs": [],
   "source": [
    "   "
   ]
  },
  {
   "cell_type": "markdown",
   "metadata": {},
   "source": [
    "___\n",
    "## Verificando a performance\n",
    "\n",
    "Agora você deve testar o seu Classificador com a base de Testes.<br /><br /> \n",
    "\n",
    "Você deve extrair as seguintes medidas:\n",
    "* Porcentagem de positivos falsos (marcados como relevante mas não são relevantes)\n",
    "* Porcentagem de positivos verdadeiros (marcado como relevante e são relevantes)\n",
    "* Porcentagem de negativos verdadeiros (marcado como não relevante e não são relevantes)\n",
    "* Porcentagem de negativos falsos (marcado como não relevante e são relevantes)\n",
    "\n",
    "Opcionalmente:\n",
    "* Criar categorias intermediárias de relevância baseado na diferença de probabilidades. Exemplo: muito relevante, relevante, neutro, irrelevante e muito irrelevante."
   ]
  },
  {
   "cell_type": "code",
   "execution_count": 44,
   "metadata": {
    "collapsed": true,
    "scrolled": true
   },
   "outputs": [],
   "source": [
    "# ABRINDO O EXCEL DE TESTE PARA TESTAR O CLASSIFICADOR\n",
    "Teste = pd.read_excel('Teste.xlsx')\n",
    "\n",
    "# CRIANDO UM DATAFRAME SÓ COM OS TWEETS E OUTRO DATAFRAME SÓ COM A RELEVÂNCIA\n",
    "\n",
    "teste_tweets=pd.DataFrame(Teste.loc[:,[\"Teste\"]])\n",
    "teste_relev=pd.DataFrame(Teste.loc[:,[\"Relevância\"]])"
   ]
  },
  {
   "cell_type": "code",
   "execution_count": 45,
   "metadata": {
    "collapsed": true
   },
   "outputs": [],
   "source": [
    "\n",
    "\n",
    "# CRIANDO A FUNÇÃO QUE PEGA TODOS TWEETS E PASSA UM A UM EM LOOP NO CLASSIFICADOR, ARMAZENA SE O CLASSIFICADOR ACERTOU OU ERROU\n",
    "# E IDENTIFICA O TIPO DE ACERTO E O TIPO DE ERRO (POSITIVO FALSO, NEGATIVO VERDADEIRO, ETC...) E CALCULA A PORCENTAGEM DE CADA\n",
    "# UM DESSES PARÂMETROS, ALÉM DE RETORNAR A SOMA DOS ACERTOS E DOS ERROS DO CLASSIFICADOR\n",
    "\n",
    "def acertos():\n",
    "    somapv = 0\n",
    "    somapf=0\n",
    "    somanv=0\n",
    "    somanf=0\n",
    "    relev=[]\n",
    "    lista_teste_tweets=[]\n",
    "    for u in teste_relev.Relevância:\n",
    "        relev.append(u)\n",
    "    for j in teste_tweets.Teste:\n",
    "        lista_teste_tweets.append(prob(j))\n",
    "    for y in range(len(relev)):\n",
    "        if relev[y]==1:\n",
    "            if lista_teste_tweets[y]==\"Relevante\":\n",
    "                somapv+=1\n",
    "            if lista_teste_tweets[y]==\"Irrelevante\":\n",
    "                somanf+=1\n",
    "        if relev[y]==0:\n",
    "            if lista_teste_tweets[y]==\"Relevante\":\n",
    "                somapf+=1\n",
    "            if lista_teste_tweets[y]==\"Irrelevante\":\n",
    "                somanv+=1\n",
    "    probpv=((somapv/200)*100)\n",
    "    probpf=((somapf/200)*100)\n",
    "    probnv=((somanv/200)*100)\n",
    "    probnf=((somanf/200)*100)\n",
    "    proba=probpv+probnv\n",
    "    probe=probpf+probnf\n",
    "    \n",
    "    return probpv, probpf, probnv, probnf, proba, probe\n",
    "\n"
   ]
  },
  {
   "cell_type": "code",
   "execution_count": 47,
   "metadata": {},
   "outputs": [
    {
     "data": {
      "text/plain": [
       "(5.5, 72.0, 20.0, 2.5, 25.5, 74.5)"
      ]
     },
     "execution_count": 47,
     "metadata": {},
     "output_type": "execute_result"
    }
   ],
   "source": [
    "# RODANDO A FUNÇÃO ACERTOS\n",
    "\n",
    "acertos()"
   ]
  },
  {
   "cell_type": "markdown",
   "metadata": {
    "collapsed": true
   },
   "source": [
    "___\n",
    "## Concluindo\n",
    "\n",
    "Escreva aqui a sua conclusão.<br /> \n",
    "Faça um comparativo qualitativo sobre as medidas obtidas.<br />\n",
    "Explique como são tratadas as mensagens com dupla negação e sarcasmo.<br />\n",
    "Proponha um plano de expansão. Por que eles devem continuar financiando o seu projeto?<br />\n",
    "\n",
    "Opcionalmente: \n",
    "* Discorrer por que não posso alimentar minha base de Treinamento automaticamente usando o próprio classificador, aplicado a novos tweets.\n",
    "* Propor diferentes cenários de uso para o classificador Naive-Bayes. Cenários sem intersecção com este projeto.\n",
    "* Sugerir e explicar melhorias reais no classificador com indicações concretas de como implementar (não é preciso codificar, mas indicar como fazer e material de pesquisa sobre o assunto).\n"
   ]
  },
  {
   "cell_type": "code",
   "execution_count": null,
   "metadata": {
    "collapsed": true
   },
   "outputs": [],
   "source": []
  },
  {
   "cell_type": "code",
   "execution_count": null,
   "metadata": {
    "collapsed": true
   },
   "outputs": [],
   "source": []
  },
  {
   "cell_type": "code",
   "execution_count": null,
   "metadata": {
    "collapsed": true
   },
   "outputs": [],
   "source": []
  },
  {
   "cell_type": "code",
   "execution_count": null,
   "metadata": {
    "collapsed": true
   },
   "outputs": [],
   "source": []
  },
  {
   "cell_type": "code",
   "execution_count": null,
   "metadata": {
    "collapsed": true
   },
   "outputs": [],
   "source": []
  }
 ],
 "metadata": {
  "kernelspec": {
   "display_name": "Python 3",
   "language": "python",
   "name": "python3"
  },
  "language_info": {
   "codemirror_mode": {
    "name": "ipython",
    "version": 3
   },
   "file_extension": ".py",
   "mimetype": "text/x-python",
   "name": "python",
   "nbconvert_exporter": "python",
   "pygments_lexer": "ipython3",
   "version": "3.6.1"
  }
 },
 "nbformat": 4,
 "nbformat_minor": 1
}
