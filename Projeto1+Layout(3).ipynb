{
 "cells": [
  {
   "cell_type": "markdown",
   "metadata": {},
   "source": [
    "___\n",
    "# Ciência dos Dados - PROJETO 1"
   ]
  },
  {
   "cell_type": "markdown",
   "metadata": {},
   "source": [
    "## COLOQUE AQUI SEU NOME\n",
    "___"
   ]
  },
  {
   "cell_type": "markdown",
   "metadata": {},
   "source": [
    "## TÍTULO DO SEU PROJETO"
   ]
  },
  {
   "cell_type": "markdown",
   "metadata": {},
   "source": [
    " __\n",
    "## Introdução\n",
    "\n",
    "Descreva aqui o que pretende analisar!\n",
    "\n",
    "Capriche no português!! \n",
    "Se quiser pode utilizar pesquisas semelhantes publicadas em sites confiáveis!!\n",
    "\n",
    "Pretendo com esse projeto analisar como o acesso a internet se distribui em relação a renda per capita por domicílio no estado de São Paulo nos anos de 2009, 2013, 2014, e 2015.\n"
   ]
  },
  {
   "cell_type": "markdown",
   "metadata": {},
   "source": [
    "___\n",
    "## Análise e Resultados"
   ]
  },
  {
   "cell_type": "code",
   "execution_count": 1,
   "metadata": {
    "collapsed": true
   },
   "outputs": [],
   "source": [
    "%matplotlib inline\n",
    "import pandas as pd\n",
    "import matplotlib.pyplot as plt\n",
    "import numpy as np\n",
    "import os"
   ]
  },
  {
   "cell_type": "code",
   "execution_count": 2,
   "metadata": {
    "scrolled": true
   },
   "outputs": [
    {
     "name": "stdout",
     "output_type": "stream",
     "text": [
      "Esperamos trabalhar no diretório\n",
      "C:\\Users\\victo\n"
     ]
    }
   ],
   "source": [
    "print('Esperamos trabalhar no diretório')\n",
    "print(os.getcwd())"
   ]
  },
  {
   "cell_type": "code",
   "execution_count": 3,
   "metadata": {
    "collapsed": true
   },
   "outputs": [],
   "source": [
    "#Se usar o arquivo descompactado\n",
    "dados=pd.read_csv('DOM2015.csv',sep=',')\n",
    "#Se usar o arquivo compactado como está no dropbox púbico\n",
    "#pd.read_csv('DOM2015csv.zip', compression='zip', header=0, sep=',', quotechar='\"')"
   ]
  },
  {
   "cell_type": "code",
   "execution_count": 4,
   "metadata": {},
   "outputs": [
    {
     "data": {
      "text/html": [
       "<div>\n",
       "<style>\n",
       "    .dataframe thead tr:only-child th {\n",
       "        text-align: right;\n",
       "    }\n",
       "\n",
       "    .dataframe thead th {\n",
       "        text-align: left;\n",
       "    }\n",
       "\n",
       "    .dataframe tbody tr th {\n",
       "        vertical-align: top;\n",
       "    }\n",
       "</style>\n",
       "<table border=\"1\" class=\"dataframe\">\n",
       "  <thead>\n",
       "    <tr style=\"text-align: right;\">\n",
       "      <th></th>\n",
       "      <th>V4621</th>\n",
       "      <th>V0232</th>\n",
       "      <th>V02322</th>\n",
       "      <th>V0231</th>\n",
       "      <th>V02426</th>\n",
       "    </tr>\n",
       "  </thead>\n",
       "  <tbody>\n",
       "    <tr>\n",
       "      <th>93132</th>\n",
       "      <td>4.250000e+03</td>\n",
       "      <td>2.0</td>\n",
       "      <td>2.0</td>\n",
       "      <td>1.0</td>\n",
       "      <td>2.0</td>\n",
       "    </tr>\n",
       "    <tr>\n",
       "      <th>93133</th>\n",
       "      <td>1.262000e+03</td>\n",
       "      <td>2.0</td>\n",
       "      <td>2.0</td>\n",
       "      <td>1.0</td>\n",
       "      <td>2.0</td>\n",
       "    </tr>\n",
       "    <tr>\n",
       "      <th>93135</th>\n",
       "      <td>3.000000e+03</td>\n",
       "      <td>2.0</td>\n",
       "      <td>2.0</td>\n",
       "      <td>1.0</td>\n",
       "      <td>2.0</td>\n",
       "    </tr>\n",
       "    <tr>\n",
       "      <th>93140</th>\n",
       "      <td>1.550000e+03</td>\n",
       "      <td>2.0</td>\n",
       "      <td>2.0</td>\n",
       "      <td>1.0</td>\n",
       "      <td>2.0</td>\n",
       "    </tr>\n",
       "    <tr>\n",
       "      <th>93143</th>\n",
       "      <td>2.300000e+03</td>\n",
       "      <td>2.0</td>\n",
       "      <td>2.0</td>\n",
       "      <td>1.0</td>\n",
       "      <td>2.0</td>\n",
       "    </tr>\n",
       "    <tr>\n",
       "      <th>93147</th>\n",
       "      <td>7.880000e+02</td>\n",
       "      <td>2.0</td>\n",
       "      <td>2.0</td>\n",
       "      <td>1.0</td>\n",
       "      <td>2.0</td>\n",
       "    </tr>\n",
       "    <tr>\n",
       "      <th>93148</th>\n",
       "      <td>6.970000e+02</td>\n",
       "      <td>2.0</td>\n",
       "      <td>2.0</td>\n",
       "      <td>1.0</td>\n",
       "      <td>2.0</td>\n",
       "    </tr>\n",
       "    <tr>\n",
       "      <th>93149</th>\n",
       "      <td>9.000000e+02</td>\n",
       "      <td>2.0</td>\n",
       "      <td>2.0</td>\n",
       "      <td>1.0</td>\n",
       "      <td>2.0</td>\n",
       "    </tr>\n",
       "    <tr>\n",
       "      <th>93150</th>\n",
       "      <td>1.744000e+03</td>\n",
       "      <td>2.0</td>\n",
       "      <td>2.0</td>\n",
       "      <td>1.0</td>\n",
       "      <td>2.0</td>\n",
       "    </tr>\n",
       "    <tr>\n",
       "      <th>93157</th>\n",
       "      <td>7.660000e+02</td>\n",
       "      <td>2.0</td>\n",
       "      <td>2.0</td>\n",
       "      <td>1.0</td>\n",
       "      <td>2.0</td>\n",
       "    </tr>\n",
       "    <tr>\n",
       "      <th>93160</th>\n",
       "      <td>1.433000e+03</td>\n",
       "      <td>2.0</td>\n",
       "      <td>2.0</td>\n",
       "      <td>1.0</td>\n",
       "      <td>2.0</td>\n",
       "    </tr>\n",
       "    <tr>\n",
       "      <th>93161</th>\n",
       "      <td>1.267000e+03</td>\n",
       "      <td>2.0</td>\n",
       "      <td>2.0</td>\n",
       "      <td>1.0</td>\n",
       "      <td>2.0</td>\n",
       "    </tr>\n",
       "    <tr>\n",
       "      <th>93167</th>\n",
       "      <td>7.880000e+02</td>\n",
       "      <td>2.0</td>\n",
       "      <td>2.0</td>\n",
       "      <td>1.0</td>\n",
       "      <td>2.0</td>\n",
       "    </tr>\n",
       "    <tr>\n",
       "      <th>93171</th>\n",
       "      <td>7.160000e+02</td>\n",
       "      <td>2.0</td>\n",
       "      <td>2.0</td>\n",
       "      <td>1.0</td>\n",
       "      <td>2.0</td>\n",
       "    </tr>\n",
       "    <tr>\n",
       "      <th>93172</th>\n",
       "      <td>8.200000e+02</td>\n",
       "      <td>2.0</td>\n",
       "      <td>2.0</td>\n",
       "      <td>1.0</td>\n",
       "      <td>2.0</td>\n",
       "    </tr>\n",
       "    <tr>\n",
       "      <th>93173</th>\n",
       "      <td>1.700000e+03</td>\n",
       "      <td>2.0</td>\n",
       "      <td>2.0</td>\n",
       "      <td>1.0</td>\n",
       "      <td>4.0</td>\n",
       "    </tr>\n",
       "    <tr>\n",
       "      <th>93174</th>\n",
       "      <td>2.530000e+02</td>\n",
       "      <td>4.0</td>\n",
       "      <td>4.0</td>\n",
       "      <td>1.0</td>\n",
       "      <td>NaN</td>\n",
       "    </tr>\n",
       "    <tr>\n",
       "      <th>93177</th>\n",
       "      <td>1.143000e+03</td>\n",
       "      <td>4.0</td>\n",
       "      <td>2.0</td>\n",
       "      <td>1.0</td>\n",
       "      <td>4.0</td>\n",
       "    </tr>\n",
       "    <tr>\n",
       "      <th>93178</th>\n",
       "      <td>1.000000e+03</td>\n",
       "      <td>2.0</td>\n",
       "      <td>2.0</td>\n",
       "      <td>1.0</td>\n",
       "      <td>2.0</td>\n",
       "    </tr>\n",
       "    <tr>\n",
       "      <th>93179</th>\n",
       "      <td>1.800000e+03</td>\n",
       "      <td>2.0</td>\n",
       "      <td>2.0</td>\n",
       "      <td>1.0</td>\n",
       "      <td>2.0</td>\n",
       "    </tr>\n",
       "    <tr>\n",
       "      <th>93182</th>\n",
       "      <td>9.250000e+02</td>\n",
       "      <td>2.0</td>\n",
       "      <td>2.0</td>\n",
       "      <td>1.0</td>\n",
       "      <td>2.0</td>\n",
       "    </tr>\n",
       "    <tr>\n",
       "      <th>93184</th>\n",
       "      <td>1.188000e+03</td>\n",
       "      <td>2.0</td>\n",
       "      <td>2.0</td>\n",
       "      <td>1.0</td>\n",
       "      <td>2.0</td>\n",
       "    </tr>\n",
       "    <tr>\n",
       "      <th>93186</th>\n",
       "      <td>1.350000e+03</td>\n",
       "      <td>2.0</td>\n",
       "      <td>2.0</td>\n",
       "      <td>1.0</td>\n",
       "      <td>2.0</td>\n",
       "    </tr>\n",
       "    <tr>\n",
       "      <th>93187</th>\n",
       "      <td>2.466000e+03</td>\n",
       "      <td>2.0</td>\n",
       "      <td>2.0</td>\n",
       "      <td>1.0</td>\n",
       "      <td>2.0</td>\n",
       "    </tr>\n",
       "    <tr>\n",
       "      <th>93193</th>\n",
       "      <td>4.000000e+02</td>\n",
       "      <td>2.0</td>\n",
       "      <td>2.0</td>\n",
       "      <td>1.0</td>\n",
       "      <td>2.0</td>\n",
       "    </tr>\n",
       "    <tr>\n",
       "      <th>93195</th>\n",
       "      <td>7.040000e+02</td>\n",
       "      <td>4.0</td>\n",
       "      <td>2.0</td>\n",
       "      <td>1.0</td>\n",
       "      <td>4.0</td>\n",
       "    </tr>\n",
       "    <tr>\n",
       "      <th>93196</th>\n",
       "      <td>7.500000e+02</td>\n",
       "      <td>2.0</td>\n",
       "      <td>2.0</td>\n",
       "      <td>1.0</td>\n",
       "      <td>2.0</td>\n",
       "    </tr>\n",
       "    <tr>\n",
       "      <th>93198</th>\n",
       "      <td>8.440000e+02</td>\n",
       "      <td>2.0</td>\n",
       "      <td>2.0</td>\n",
       "      <td>1.0</td>\n",
       "      <td>2.0</td>\n",
       "    </tr>\n",
       "    <tr>\n",
       "      <th>93201</th>\n",
       "      <td>1.188000e+03</td>\n",
       "      <td>2.0</td>\n",
       "      <td>2.0</td>\n",
       "      <td>1.0</td>\n",
       "      <td>2.0</td>\n",
       "    </tr>\n",
       "    <tr>\n",
       "      <th>93203</th>\n",
       "      <td>1.894000e+03</td>\n",
       "      <td>4.0</td>\n",
       "      <td>4.0</td>\n",
       "      <td>1.0</td>\n",
       "      <td>NaN</td>\n",
       "    </tr>\n",
       "    <tr>\n",
       "      <th>...</th>\n",
       "      <td>...</td>\n",
       "      <td>...</td>\n",
       "      <td>...</td>\n",
       "      <td>...</td>\n",
       "      <td>...</td>\n",
       "    </tr>\n",
       "    <tr>\n",
       "      <th>110365</th>\n",
       "      <td>1.076000e+03</td>\n",
       "      <td>2.0</td>\n",
       "      <td>2.0</td>\n",
       "      <td>1.0</td>\n",
       "      <td>2.0</td>\n",
       "    </tr>\n",
       "    <tr>\n",
       "      <th>110368</th>\n",
       "      <td>3.300000e+03</td>\n",
       "      <td>2.0</td>\n",
       "      <td>2.0</td>\n",
       "      <td>1.0</td>\n",
       "      <td>2.0</td>\n",
       "    </tr>\n",
       "    <tr>\n",
       "      <th>110369</th>\n",
       "      <td>2.288000e+03</td>\n",
       "      <td>4.0</td>\n",
       "      <td>2.0</td>\n",
       "      <td>1.0</td>\n",
       "      <td>2.0</td>\n",
       "    </tr>\n",
       "    <tr>\n",
       "      <th>110370</th>\n",
       "      <td>1.900000e+03</td>\n",
       "      <td>2.0</td>\n",
       "      <td>2.0</td>\n",
       "      <td>1.0</td>\n",
       "      <td>2.0</td>\n",
       "    </tr>\n",
       "    <tr>\n",
       "      <th>110373</th>\n",
       "      <td>6.500000e+02</td>\n",
       "      <td>4.0</td>\n",
       "      <td>4.0</td>\n",
       "      <td>1.0</td>\n",
       "      <td>NaN</td>\n",
       "    </tr>\n",
       "    <tr>\n",
       "      <th>110376</th>\n",
       "      <td>8.690000e+02</td>\n",
       "      <td>2.0</td>\n",
       "      <td>2.0</td>\n",
       "      <td>1.0</td>\n",
       "      <td>2.0</td>\n",
       "    </tr>\n",
       "    <tr>\n",
       "      <th>110381</th>\n",
       "      <td>1.000000e+12</td>\n",
       "      <td>2.0</td>\n",
       "      <td>2.0</td>\n",
       "      <td>1.0</td>\n",
       "      <td>2.0</td>\n",
       "    </tr>\n",
       "    <tr>\n",
       "      <th>110382</th>\n",
       "      <td>5.260000e+02</td>\n",
       "      <td>2.0</td>\n",
       "      <td>2.0</td>\n",
       "      <td>1.0</td>\n",
       "      <td>2.0</td>\n",
       "    </tr>\n",
       "    <tr>\n",
       "      <th>110384</th>\n",
       "      <td>5.150000e+02</td>\n",
       "      <td>4.0</td>\n",
       "      <td>2.0</td>\n",
       "      <td>1.0</td>\n",
       "      <td>4.0</td>\n",
       "    </tr>\n",
       "    <tr>\n",
       "      <th>110385</th>\n",
       "      <td>5.000000e+03</td>\n",
       "      <td>2.0</td>\n",
       "      <td>2.0</td>\n",
       "      <td>1.0</td>\n",
       "      <td>2.0</td>\n",
       "    </tr>\n",
       "    <tr>\n",
       "      <th>110386</th>\n",
       "      <td>1.300000e+04</td>\n",
       "      <td>2.0</td>\n",
       "      <td>2.0</td>\n",
       "      <td>1.0</td>\n",
       "      <td>2.0</td>\n",
       "    </tr>\n",
       "    <tr>\n",
       "      <th>110387</th>\n",
       "      <td>5.000000e+03</td>\n",
       "      <td>2.0</td>\n",
       "      <td>2.0</td>\n",
       "      <td>1.0</td>\n",
       "      <td>2.0</td>\n",
       "    </tr>\n",
       "    <tr>\n",
       "      <th>110390</th>\n",
       "      <td>3.500000e+03</td>\n",
       "      <td>2.0</td>\n",
       "      <td>2.0</td>\n",
       "      <td>1.0</td>\n",
       "      <td>2.0</td>\n",
       "    </tr>\n",
       "    <tr>\n",
       "      <th>110393</th>\n",
       "      <td>7.000000e+02</td>\n",
       "      <td>2.0</td>\n",
       "      <td>2.0</td>\n",
       "      <td>1.0</td>\n",
       "      <td>2.0</td>\n",
       "    </tr>\n",
       "    <tr>\n",
       "      <th>110398</th>\n",
       "      <td>2.000000e+03</td>\n",
       "      <td>2.0</td>\n",
       "      <td>2.0</td>\n",
       "      <td>1.0</td>\n",
       "      <td>4.0</td>\n",
       "    </tr>\n",
       "    <tr>\n",
       "      <th>110400</th>\n",
       "      <td>8.500000e+03</td>\n",
       "      <td>2.0</td>\n",
       "      <td>2.0</td>\n",
       "      <td>1.0</td>\n",
       "      <td>4.0</td>\n",
       "    </tr>\n",
       "    <tr>\n",
       "      <th>110401</th>\n",
       "      <td>4.375000e+03</td>\n",
       "      <td>2.0</td>\n",
       "      <td>2.0</td>\n",
       "      <td>1.0</td>\n",
       "      <td>2.0</td>\n",
       "    </tr>\n",
       "    <tr>\n",
       "      <th>110403</th>\n",
       "      <td>1.266000e+03</td>\n",
       "      <td>2.0</td>\n",
       "      <td>2.0</td>\n",
       "      <td>1.0</td>\n",
       "      <td>2.0</td>\n",
       "    </tr>\n",
       "    <tr>\n",
       "      <th>110404</th>\n",
       "      <td>2.655000e+03</td>\n",
       "      <td>2.0</td>\n",
       "      <td>2.0</td>\n",
       "      <td>1.0</td>\n",
       "      <td>4.0</td>\n",
       "    </tr>\n",
       "    <tr>\n",
       "      <th>110405</th>\n",
       "      <td>3.200000e+03</td>\n",
       "      <td>2.0</td>\n",
       "      <td>2.0</td>\n",
       "      <td>1.0</td>\n",
       "      <td>2.0</td>\n",
       "    </tr>\n",
       "    <tr>\n",
       "      <th>110408</th>\n",
       "      <td>1.800000e+02</td>\n",
       "      <td>2.0</td>\n",
       "      <td>2.0</td>\n",
       "      <td>1.0</td>\n",
       "      <td>2.0</td>\n",
       "    </tr>\n",
       "    <tr>\n",
       "      <th>110409</th>\n",
       "      <td>1.266000e+03</td>\n",
       "      <td>2.0</td>\n",
       "      <td>2.0</td>\n",
       "      <td>1.0</td>\n",
       "      <td>2.0</td>\n",
       "    </tr>\n",
       "    <tr>\n",
       "      <th>110410</th>\n",
       "      <td>5.400000e+02</td>\n",
       "      <td>2.0</td>\n",
       "      <td>2.0</td>\n",
       "      <td>1.0</td>\n",
       "      <td>2.0</td>\n",
       "    </tr>\n",
       "    <tr>\n",
       "      <th>110411</th>\n",
       "      <td>1.000000e+03</td>\n",
       "      <td>2.0</td>\n",
       "      <td>2.0</td>\n",
       "      <td>1.0</td>\n",
       "      <td>2.0</td>\n",
       "    </tr>\n",
       "    <tr>\n",
       "      <th>110412</th>\n",
       "      <td>1.000000e+12</td>\n",
       "      <td>2.0</td>\n",
       "      <td>2.0</td>\n",
       "      <td>1.0</td>\n",
       "      <td>2.0</td>\n",
       "    </tr>\n",
       "    <tr>\n",
       "      <th>110414</th>\n",
       "      <td>5.410000e+02</td>\n",
       "      <td>2.0</td>\n",
       "      <td>2.0</td>\n",
       "      <td>1.0</td>\n",
       "      <td>2.0</td>\n",
       "    </tr>\n",
       "    <tr>\n",
       "      <th>110416</th>\n",
       "      <td>1.100000e+03</td>\n",
       "      <td>2.0</td>\n",
       "      <td>2.0</td>\n",
       "      <td>1.0</td>\n",
       "      <td>2.0</td>\n",
       "    </tr>\n",
       "    <tr>\n",
       "      <th>110418</th>\n",
       "      <td>3.960000e+02</td>\n",
       "      <td>2.0</td>\n",
       "      <td>2.0</td>\n",
       "      <td>1.0</td>\n",
       "      <td>2.0</td>\n",
       "    </tr>\n",
       "    <tr>\n",
       "      <th>110420</th>\n",
       "      <td>1.433000e+03</td>\n",
       "      <td>2.0</td>\n",
       "      <td>2.0</td>\n",
       "      <td>1.0</td>\n",
       "      <td>2.0</td>\n",
       "    </tr>\n",
       "    <tr>\n",
       "      <th>110421</th>\n",
       "      <td>9.000000e+02</td>\n",
       "      <td>2.0</td>\n",
       "      <td>2.0</td>\n",
       "      <td>1.0</td>\n",
       "      <td>2.0</td>\n",
       "    </tr>\n",
       "  </tbody>\n",
       "</table>\n",
       "<p>8294 rows × 5 columns</p>\n",
       "</div>"
      ],
      "text/plain": [
       "               V4621  V0232  V02322  V0231  V02426\n",
       "93132   4.250000e+03    2.0     2.0    1.0     2.0\n",
       "93133   1.262000e+03    2.0     2.0    1.0     2.0\n",
       "93135   3.000000e+03    2.0     2.0    1.0     2.0\n",
       "93140   1.550000e+03    2.0     2.0    1.0     2.0\n",
       "93143   2.300000e+03    2.0     2.0    1.0     2.0\n",
       "93147   7.880000e+02    2.0     2.0    1.0     2.0\n",
       "93148   6.970000e+02    2.0     2.0    1.0     2.0\n",
       "93149   9.000000e+02    2.0     2.0    1.0     2.0\n",
       "93150   1.744000e+03    2.0     2.0    1.0     2.0\n",
       "93157   7.660000e+02    2.0     2.0    1.0     2.0\n",
       "93160   1.433000e+03    2.0     2.0    1.0     2.0\n",
       "93161   1.267000e+03    2.0     2.0    1.0     2.0\n",
       "93167   7.880000e+02    2.0     2.0    1.0     2.0\n",
       "93171   7.160000e+02    2.0     2.0    1.0     2.0\n",
       "93172   8.200000e+02    2.0     2.0    1.0     2.0\n",
       "93173   1.700000e+03    2.0     2.0    1.0     4.0\n",
       "93174   2.530000e+02    4.0     4.0    1.0     NaN\n",
       "93177   1.143000e+03    4.0     2.0    1.0     4.0\n",
       "93178   1.000000e+03    2.0     2.0    1.0     2.0\n",
       "93179   1.800000e+03    2.0     2.0    1.0     2.0\n",
       "93182   9.250000e+02    2.0     2.0    1.0     2.0\n",
       "93184   1.188000e+03    2.0     2.0    1.0     2.0\n",
       "93186   1.350000e+03    2.0     2.0    1.0     2.0\n",
       "93187   2.466000e+03    2.0     2.0    1.0     2.0\n",
       "93193   4.000000e+02    2.0     2.0    1.0     2.0\n",
       "93195   7.040000e+02    4.0     2.0    1.0     4.0\n",
       "93196   7.500000e+02    2.0     2.0    1.0     2.0\n",
       "93198   8.440000e+02    2.0     2.0    1.0     2.0\n",
       "93201   1.188000e+03    2.0     2.0    1.0     2.0\n",
       "93203   1.894000e+03    4.0     4.0    1.0     NaN\n",
       "...              ...    ...     ...    ...     ...\n",
       "110365  1.076000e+03    2.0     2.0    1.0     2.0\n",
       "110368  3.300000e+03    2.0     2.0    1.0     2.0\n",
       "110369  2.288000e+03    4.0     2.0    1.0     2.0\n",
       "110370  1.900000e+03    2.0     2.0    1.0     2.0\n",
       "110373  6.500000e+02    4.0     4.0    1.0     NaN\n",
       "110376  8.690000e+02    2.0     2.0    1.0     2.0\n",
       "110381  1.000000e+12    2.0     2.0    1.0     2.0\n",
       "110382  5.260000e+02    2.0     2.0    1.0     2.0\n",
       "110384  5.150000e+02    4.0     2.0    1.0     4.0\n",
       "110385  5.000000e+03    2.0     2.0    1.0     2.0\n",
       "110386  1.300000e+04    2.0     2.0    1.0     2.0\n",
       "110387  5.000000e+03    2.0     2.0    1.0     2.0\n",
       "110390  3.500000e+03    2.0     2.0    1.0     2.0\n",
       "110393  7.000000e+02    2.0     2.0    1.0     2.0\n",
       "110398  2.000000e+03    2.0     2.0    1.0     4.0\n",
       "110400  8.500000e+03    2.0     2.0    1.0     4.0\n",
       "110401  4.375000e+03    2.0     2.0    1.0     2.0\n",
       "110403  1.266000e+03    2.0     2.0    1.0     2.0\n",
       "110404  2.655000e+03    2.0     2.0    1.0     4.0\n",
       "110405  3.200000e+03    2.0     2.0    1.0     2.0\n",
       "110408  1.800000e+02    2.0     2.0    1.0     2.0\n",
       "110409  1.266000e+03    2.0     2.0    1.0     2.0\n",
       "110410  5.400000e+02    2.0     2.0    1.0     2.0\n",
       "110411  1.000000e+03    2.0     2.0    1.0     2.0\n",
       "110412  1.000000e+12    2.0     2.0    1.0     2.0\n",
       "110414  5.410000e+02    2.0     2.0    1.0     2.0\n",
       "110416  1.100000e+03    2.0     2.0    1.0     2.0\n",
       "110418  3.960000e+02    2.0     2.0    1.0     2.0\n",
       "110420  1.433000e+03    2.0     2.0    1.0     2.0\n",
       "110421  9.000000e+02    2.0     2.0    1.0     2.0\n",
       "\n",
       "[8294 rows x 5 columns]"
      ]
     },
     "execution_count": 4,
     "metadata": {},
     "output_type": "execute_result"
    }
   ],
   "source": [
    "dadosI=dados[dados.UF==35].loc[:,{\"V02322\",\"V0231\",'V0232','V02426','V4621'}]\n",
    "dadosCompletos = dadosI[pd.notnull(dadosI.V0232)]\n",
    "#dadosCompletos=dadosCompletos.rename(columns={'V0232':'Microcomputador é utilizado para acessar a internet'})\n",
    "#dadosCompletos=dadosCompletos.rename(columns={'V02322':'Tem acesso à internet no próprio domicílio'})\n",
    "#dadosCompletos=dadosCompletos.rename(columns={'V0231':'Tem microcomputador'})\n",
    "#dadosCompletos=dadosCompletos.rename(columns={'V02426':'O acesso à internet é feito por banda larga'})\n",
    "#dadosCompletos=dadosCompletos.rename(columns={'V4621':'Rendimento mensal domiciliar per capita'})\n",
    "\n",
    "dadosCompletos"
   ]
  },
  {
   "cell_type": "code",
   "execution_count": 5,
   "metadata": {
    "collapsed": true
   },
   "outputs": [],
   "source": [
    "#Le as bases de dados de 2013, 14 e 15\n",
    "dados13=pd.read_csv('DOM2013.csv',sep=',')\n",
    "dados14=pd.read_csv('DOM2014.csv',sep=',')\n",
    "dados15=pd.read_csv('DOM2015.csv',sep=',')"
   ]
  },
  {
   "cell_type": "code",
   "execution_count": 6,
   "metadata": {
    "collapsed": true
   },
   "outputs": [],
   "source": [
    "#Transforma a renda em float\n",
    "#dados13.V4621=dados13.V4621.astype('float')\n",
    "#dados14.V4621=dados14.V4621.astype('float')\n",
    "#dados15.V4621=dados15.V4621.astype('float')"
   ]
  },
  {
   "cell_type": "code",
   "execution_count": 7,
   "metadata": {
    "collapsed": true
   },
   "outputs": [],
   "source": [
    "#Transforma em Sim e não as respostas\n",
    "dados13.V02322=dados13.V02322.astype('category')\n",
    "dados14.V02322=dados14.V02322.astype('category')\n",
    "dados15.V02322=dados15.V02322.astype('category')\n",
    "dados13.V02322.cat.categories=([\"Sim\",\"Não\"])\n",
    "dados14.V02322.cat.categories=([\"Sim\",\"Não\"])\n",
    "dados15.V02322.cat.categories=([\"Sim\",\"Não\"])"
   ]
  },
  {
   "cell_type": "code",
   "execution_count": 8,
   "metadata": {
    "collapsed": true
   },
   "outputs": [],
   "source": [
    "#Transforma em Sim e não as respostas\n",
    "dados13.V02426=dados13.V02426.astype('category')\n",
    "dados14.V02426=dados14.V02426.astype('category')\n",
    "dados15.V02426=dados15.V02426.astype('category')\n",
    "dados13.V02426.cat.categories=([\"Sim\",\"Não\"])\n",
    "dados14.V02426.cat.categories=([\"Sim\",\"Não\"])\n",
    "dados15.V02426.cat.categories=([\"Sim\",\"Não\"])"
   ]
  },
  {
   "cell_type": "code",
   "execution_count": 9,
   "metadata": {
    "collapsed": true
   },
   "outputs": [],
   "source": [
    "#Transforma em Sim e não as respostas\n",
    "dados13.V0231=dados13.V0231.astype('category')\n",
    "dados14.V0231=dados14.V0231.astype('category')\n",
    "dados15.V0231=dados15.V0231.astype('category')\n",
    "dados13.V0231.cat.categories=([\"Sim\",\"Não\"])\n",
    "dados14.V0231.cat.categories=([\"Sim\",\"Não\"])\n",
    "dados15.V0231.cat.categories=([\"Sim\",\"Não\"])"
   ]
  },
  {
   "cell_type": "code",
   "execution_count": 10,
   "metadata": {
    "collapsed": true
   },
   "outputs": [],
   "source": [
    "#Transforma em Sim e não as respostas\n",
    "dados13.V0232=dados13.V0232.astype('category')\n",
    "dados14.V0232=dados14.V0232.astype('category')\n",
    "dados15.V0232=dados15.V0232.astype('category')\n",
    "dados13.V0232.cat.categories=([\"Sim\",\"Não\"])\n",
    "dados14.V0232.cat.categories=([\"Sim\",\"Não\"])\n",
    "dados15.V0232.cat.categories=([\"Sim\",\"Não\"])"
   ]
  },
  {
   "cell_type": "code",
   "execution_count": 11,
   "metadata": {
    "collapsed": true
   },
   "outputs": [],
   "source": [
    "#Pega a renda e se tem acesso a internet no domicilio\n",
    "dadosCompletos13=pd.DataFrame(dados13.loc[:,[\"V02322\", \"V02426\"]])\n",
    "dadosCompletos14=pd.DataFrame(dados14.loc[:,[\"V02322\", \"V02426\"]])\n",
    "dadosCompletos15=pd.DataFrame(dados15.loc[:,[\"V02322\", \"V02426\"]])"
   ]
  },
  {
   "cell_type": "code",
   "execution_count": 12,
   "metadata": {},
   "outputs": [
    {
     "data": {
      "text/html": [
       "<div>\n",
       "<style>\n",
       "    .dataframe thead tr:only-child th {\n",
       "        text-align: right;\n",
       "    }\n",
       "\n",
       "    .dataframe thead th {\n",
       "        text-align: left;\n",
       "    }\n",
       "\n",
       "    .dataframe tbody tr th {\n",
       "        vertical-align: top;\n",
       "    }\n",
       "</style>\n",
       "<table border=\"1\" class=\"dataframe\">\n",
       "  <thead>\n",
       "    <tr style=\"text-align: right;\">\n",
       "      <th>V02322</th>\n",
       "      <th>Sim</th>\n",
       "    </tr>\n",
       "    <tr>\n",
       "      <th>V02426</th>\n",
       "      <th></th>\n",
       "    </tr>\n",
       "  </thead>\n",
       "  <tbody>\n",
       "    <tr>\n",
       "      <th>Sim</th>\n",
       "      <td>47209</td>\n",
       "    </tr>\n",
       "    <tr>\n",
       "      <th>Não</th>\n",
       "      <td>20625</td>\n",
       "    </tr>\n",
       "  </tbody>\n",
       "</table>\n",
       "</div>"
      ],
      "text/plain": [
       "V02322    Sim\n",
       "V02426       \n",
       "Sim     47209\n",
       "Não     20625"
      ]
     },
     "execution_count": 12,
     "metadata": {},
     "output_type": "execute_result"
    }
   ],
   "source": [
    "#Cruza as respostas de renda e se tem acesso a internet no domicilio\n",
    "ct1=pd.crosstab(dadosCompletos13.V02426, dadosCompletos13.V02322)\n",
    "ct2=pd.crosstab(dadosCompletos14.V02426, dadosCompletos14.V02322)\n",
    "ct3=pd.crosstab(dadosCompletos15.V02426, dadosCompletos15.V02322)\n",
    "\n",
    "ct1\n",
    "ct2\n",
    "ct3\n"
   ]
  },
  {
   "cell_type": "code",
   "execution_count": 13,
   "metadata": {},
   "outputs": [
    {
     "data": {
      "image/png": "[encoded data removed]",
      "text/plain": [
       "<matplotlib.figure.Figure at 0x11fab17f630>"
      ]
     },
     "metadata": {},
     "output_type": "display_data"
    }
   ],
   "source": [
    "#Plota os graficos de se tem acesso a internet no proprio domicilio\n",
    "fig = plt.figure(figsize=(15, 5))\n",
    "plt.subplot(131)\n",
    "plot=dados13.V02322.value_counts().plot(kind=\"pie\",colors=('blue', 'red'), autopct=\"%0.1f\",legend=False)\n",
    "\n",
    "plt.subplot(132)\n",
    "plot=dados14.V02322.value_counts().plot(kind=\"pie\",colors=('blue', 'red'), autopct=\"%0.1f\",legend=False)\n",
    "\n",
    "plt.subplot(133)\n",
    "plot=dados15.V02322.value_counts().plot(kind=\"pie\",colors=('blue', 'red'), autopct=\"%0.1f\",legend=False)"
   ]
  },
  {
   "cell_type": "code",
   "execution_count": 14,
   "metadata": {},
   "outputs": [
    {
     "data": {
      "text/plain": [
       "<matplotlib.axes._subplots.AxesSubplot at 0x11fab743320>"
      ]
     },
     "execution_count": 14,
     "metadata": {},
     "output_type": "execute_result"
    },
    {
     "data": {
      "image/png": "[encoded data removed]",
      "text/plain": [
       "<matplotlib.figure.Figure at 0x11fab399c50>"
      ]
     },
     "metadata": {},
     "output_type": "display_data"
    }
   ],
   "source": [
    "ct=pd.crosstab(dados13.V02322, dados13.V02426,margins=True, rownames=['ESTADO'], colnames=['INTERNET'], normalize=True)*100\n",
    "ct.plot(kind=\"bar\")"
   ]
  },
  {
   "cell_type": "code",
   "execution_count": 15,
   "metadata": {},
   "outputs": [
    {
     "data": {
      "text/plain": [
       "(0, 1000]       71.281625\n",
       "(1000, 2000]    19.722178\n",
       "(2000, 3000]     5.290326\n",
       "(3000, 4000]     2.378099\n",
       "(4000, 5000]     1.327772\n",
       "Name: V4621, dtype: float64"
      ]
     },
     "execution_count": 15,
     "metadata": {},
     "output_type": "execute_result"
    }
   ],
   "source": [
    "#plota o gráfico de renda\n",
    "from numpy import zeros_like\n",
    "\n",
    "dados13 = dados13[(dados13.V4621.notnull())]\n",
    "dados14 = dados14[(dados14.V4621.notnull())]\n",
    "dados15 = dados15[(dados15.V4621.notnull())]\n",
    "dados13 = dados13[dados13.V4621!=999999999999]\n",
    "\n",
    "renda13_cat=pd.cut(dados13.V4621, bins=10)\n",
    "renda14_cat=pd.cut(dados14.V4621, bins=10)\n",
    "renda15_cat=pd.cut(dados15.V4621, bins=10)\n",
    "\n",
    "faixa=range(0,5001,1000)\n",
    "renda13_cat=pd.cut(dados13.V4621, bins=faixa)\n",
    "renda13_cat.value_counts(sort=False, normalize=True)*100\n",
    "\n",
    "\n"
   ]
  },
  {
   "cell_type": "code",
   "execution_count": 16,
   "metadata": {},
   "outputs": [
    {
     "data": {
      "text/plain": [
       "(0, 1000]       67.758275\n",
       "(1000, 2000]    22.140058\n",
       "(2000, 3000]     5.849902\n",
       "(3000, 4000]     2.752045\n",
       "(4000, 5000]     1.499720\n",
       "Name: V4621, dtype: float64"
      ]
     },
     "execution_count": 16,
     "metadata": {},
     "output_type": "execute_result"
    }
   ],
   "source": [
    "renda14_cat=pd.cut(dados14.V4621, bins=faixa)\n",
    "renda14_cat.value_counts(sort=False, normalize=True)*100"
   ]
  },
  {
   "cell_type": "code",
   "execution_count": 17,
   "metadata": {},
   "outputs": [
    {
     "data": {
      "text/plain": [
       "(0, 1000]       67.194336\n",
       "(1000, 2000]    22.413685\n",
       "(2000, 3000]     6.128995\n",
       "(3000, 4000]     2.801261\n",
       "(4000, 5000]     1.461723\n",
       "Name: V4621, dtype: float64"
      ]
     },
     "execution_count": 17,
     "metadata": {},
     "output_type": "execute_result"
    }
   ],
   "source": [
    "renda15_cat=pd.cut(dados15.V4621, bins=faixa)\n",
    "renda15_cat.value_counts(sort=False, normalize=True)*100"
   ]
  },
  {
   "cell_type": "code",
   "execution_count": 19,
   "metadata": {},
   "outputs": [
    {
     "data": {
      "image/png": "[encoded data removed]",
      "text/plain": [
       "<matplotlib.figure.Figure at 0x11fabbe0978>"
      ]
     },
     "metadata": {},
     "output_type": "display_data"
    }
   ],
   "source": [
    "plot=dados13.V4621.plot.hist(bins=faixa, title=\"Renda Mensal per Capita\", weights=zeros_like(dados13.V4621)+1./dados13.V4621.size*100, figsize=(6,6), alpha=0.9)\n",
    "plt.xlabel=(\"renda mensal\")\n",
    "plt.ylabel=(\"porcentagem\")"
   ]
  },
  {
   "cell_type": "code",
   "execution_count": 20,
   "metadata": {},
   "outputs": [
    {
     "data": {
      "image/png": "[encoded data removed]",
      "text/plain": [
       "<matplotlib.figure.Figure at 0x11fac8f6e10>"
      ]
     },
     "metadata": {},
     "output_type": "display_data"
    }
   ],
   "source": [
    "plot=dados14.V4621.plot.hist(bins=faixa, title=\"Renda Mensal per Capita\", weights=zeros_like(dados14.V4621)+1./dados14.V4621.size*100, figsize=(6,6), alpha=0.9)\n",
    "plt.xlabel=(\"renda mensal\")\n",
    "plt.ylabel=(\"porcentagem\")"
   ]
  },
  {
   "cell_type": "code",
   "execution_count": 21,
   "metadata": {},
   "outputs": [
    {
     "data": {
      "image/png": "[encoded data removed]",
      "text/plain": [
       "<matplotlib.figure.Figure at 0x11faca39710>"
      ]
     },
     "metadata": {},
     "output_type": "display_data"
    }
   ],
   "source": [
    "plot=dados15.V4621.plot.hist(bins=faixa, title=\"Renda Mensal per Capita\", weights=zeros_like(dados15.V4621)+1./dados15.V4621.size*100, figsize=(6,6), alpha=0.9)\n",
    "plt.xlabel=(\"renda mensal\")\n",
    "plt.ylabel=(\"porcentagem\")"
   ]
  },
  {
   "cell_type": "markdown",
   "metadata": {},
   "source": [
    "___\n",
    "## Conclusão "
   ]
  },
  {
   "cell_type": "code",
   "execution_count": null,
   "metadata": {
    "collapsed": true
   },
   "outputs": [],
   "source": []
  },
  {
   "cell_type": "markdown",
   "metadata": {
    "collapsed": true
   },
   "source": [
    "Descreva aqui suas conclusões!"
   ]
  },
  {
   "cell_type": "code",
   "execution_count": null,
   "metadata": {
    "collapsed": true
   },
   "outputs": [],
   "source": []
  }
 ],
 "metadata": {
  "anaconda-cloud": {},
  "kernelspec": {
   "display_name": "Python 3",
   "language": "python",
   "name": "python3"
  },
  "language_info": {
   "codemirror_mode": {
    "name": "ipython",
    "version": 3
   },
   "file_extension": ".py",
   "mimetype": "text/x-python",
   "name": "python",
   "nbconvert_exporter": "python",
   "pygments_lexer": "ipython3",
   "version": "3.6.1"
  }
 },
 "nbformat": 4,
 "nbformat_minor": 1
}
