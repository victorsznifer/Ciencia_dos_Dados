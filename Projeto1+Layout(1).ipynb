{
 "cells": [
  {
   "cell_type": "markdown",
   "metadata": {},
   "source": [
    "___\n",
    "# Ciência dos Dados - PROJETO 1"
   ]
  },
  {
   "cell_type": "markdown",
   "metadata": {},
   "source": [
    "## Victor Sznifer Leibovicius\n",
    "___"
   ]
  },
  {
   "cell_type": "markdown",
   "metadata": {},
   "source": []
  },
  {
   "cell_type": "markdown",
   "metadata": {},
   "source": [
    "___\n",
    "## Introdução\n",
    "\n",
    "Descreva aqui o que pretende analisar!\n",
    "\n",
    "Com esse projeto, pretendo analisar o acesso como se deu o acesso a Internet no Brasil nos anos de 2013, 2014, 2015. \n",
    "\n",
    "O que falta: ainda falta pegar as variaveis de 3g e 4g, e cruzar elas com as outras\n"
   ]
  },
  {
   "cell_type": "markdown",
   "metadata": {},
   "source": [
    "___\n",
    "## Análise e Resultados"
   ]
  },
  {
   "cell_type": "code",
   "execution_count": 34,
   "metadata": {
    "collapsed": true
   },
   "outputs": [],
   "source": [
    "%matplotlib inline\n",
    "import pandas as pd\n",
    "import matplotlib.pyplot as plt\n",
    "import numpy as np\n",
    "import os"
   ]
  },
  {
   "cell_type": "code",
   "execution_count": 35,
   "metadata": {},
   "outputs": [
    {
     "name": "stdout",
     "output_type": "stream",
     "text": [
      "Esperamos trabalhar no diretório\n",
      "C:\\Users\\victo\n"
     ]
    }
   ],
   "source": [
    "print('Esperamos trabalhar no diretório')\n",
    "print(os.getcwd())"
   ]
  },
  {
   "cell_type": "code",
   "execution_count": 36,
   "metadata": {
    "collapsed": true
   },
   "outputs": [],
   "source": [
    "#Se usar o arquivo descompactado\n",
    "dados13=pd.read_csv('DOM2013.csv',sep=',')\n",
    "dados14=pd.read_csv('DOM2014.csv',sep=',')\n",
    "dados15=pd.read_csv('DOM2015.csv',sep=',')\n",
    "#Se usar o arquivo compactado como está no dropbox púbico\n",
    "#pd.read_csv('DOM2015csv.zip', compression='zip', header=0, sep=',', quotechar='\"')"
   ]
  },
  {
   "cell_type": "code",
   "execution_count": 37,
   "metadata": {
    "collapsed": true
   },
   "outputs": [],
   "source": [
    "dados13.V4621=dados13.V4621.astype('float')\n",
    "dados14.V4621=dados14.V4621.astype('float')\n",
    "dados15.V4621=dados15.V4621.astype('float')"
   ]
  },
  {
   "cell_type": "code",
   "execution_count": 38,
   "metadata": {
    "collapsed": true
   },
   "outputs": [],
   "source": [
    "dados13.V02322=dados13.V02322.astype('category')\n",
    "dados14.V02322=dados14.V02322.astype('category')\n",
    "dados15.V02322=dados15.V02322.astype('category')\n",
    "dados13.V02322.cat.categories=([\"Sim\",\"Não\"])\n",
    "dados14.V02322.cat.categories=([\"Sim\",\"Não\"])\n",
    "dados15.V02322.cat.categories=([\"Sim\",\"Não\"])"
   ]
  },
  {
   "cell_type": "code",
   "execution_count": 39,
   "metadata": {
    "collapsed": true
   },
   "outputs": [],
   "source": [
    "dados13.V02426=dados13.V02426.astype('category')\n",
    "dados14.V02426=dados14.V02426.astype('category')\n",
    "dados15.V02426=dados15.V02426.astype('category')\n",
    "dados13.V02426.cat.categories=([\"Sim\",\"Não\"])\n",
    "dados14.V02426.cat.categories=([\"Sim\",\"Não\"])\n",
    "dados15.V02426.cat.categories=([\"Sim\",\"Não\"])"
   ]
  },
  {
   "cell_type": "code",
   "execution_count": 40,
   "metadata": {
    "collapsed": true
   },
   "outputs": [],
   "source": [
    "dados13.V0231=dados13.V0231.astype('category')\n",
    "dados14.V0231=dados14.V0231.astype('category')\n",
    "dados15.V0231=dados15.V0231.astype('category')\n",
    "dados13.V0231.cat.categories=([\"Sim\",\"Não\"])\n",
    "dados14.V0231.cat.categories=([\"Sim\",\"Não\"])\n",
    "dados15.V0231.cat.categories=([\"Sim\",\"Não\"])"
   ]
  },
  {
   "cell_type": "code",
   "execution_count": 41,
   "metadata": {
    "collapsed": true
   },
   "outputs": [],
   "source": [
    "dados13.V0232=dados13.V0232.astype('category')\n",
    "dados14.V0232=dados14.V0232.astype('category')\n",
    "dados15.V0232=dados15.V0232.astype('category')\n",
    "dados13.V0232.cat.categories=([\"Sim\",\"Não\"])\n",
    "dados14.V0232.cat.categories=([\"Sim\",\"Não\"])\n",
    "dados15.V0232.cat.categories=([\"Sim\",\"Não\"])"
   ]
  },
  {
   "cell_type": "code",
   "execution_count": 85,
   "metadata": {
    "collapsed": true,
    "scrolled": false
   },
   "outputs": [],
   "source": [
    "'''dadosI13=dados13[dados13.UF==26].loc[:,{\"V02322\",\"V0231\",'V0232','V02426','V4621'}]\n",
    "dadosCompletos13 = dadosI13[pd.notnull(dadosI13.V0232)]\n",
    "dadosI14=dados14[dados14.UF==26].loc[:,{\"V02322\",\"V0231\",'V0232','V02426','V4621'}]\n",
    "dadosCompletos14 = dadosI14[pd.notnull(dadosI14.V0232)]\n",
    "dadosI15=dados15[dados15.UF==26].loc[:,{\"V02322\",\"V0231\",'V0232','V02426','V4621'}]\n",
    "dadosCompletos15 = dadosI15[pd.notnull(dadosI15.V0232)]\n",
    "\n",
    "\n",
    "dadosCompletos13=dadosCompletos13.rename(columns={'V0232':'Microcomputador é utilizado para acessar a internet'})\n",
    "dadosCompletos13=dadosCompletos13.rename(columns={'V02322':'Tem acesso à internet no próprio domicílio'})\n",
    "dadosCompletos13=dadosCompletos13.rename(columns={'V0231':'Tem microcomputador'})\n",
    "dadosCompletos13=dadosCompletos13.rename(columns={'V02426':'O acesso à internet é feito por banda larga'})\n",
    "dadosCompletos13=dadosCompletos13.rename(columns={'V4621':'Rendimento mensal domiciliar per capita'})\n",
    "\n",
    "dadosCompletos14=dadosCompletos14.rename(columns={'V0232':'Microcomputador é utilizado para acessar a internet'})\n",
    "dadosCompletos14=dadosCompletos14.rename(columns={'V02322':'Tem acesso à internet no próprio domicílio'})\n",
    "dadosCompletos14=dadosCompletos14.rename(columns={'V0231':'Tem microcomputador'})\n",
    "dadosCompletos14=dadosCompletos14.rename(columns={'V02426':'O acesso à internet é feito por banda larga'})\n",
    "dadosCompletos14=dadosCompletos14.rename(columns={'V4621':'Rendimento mensal domiciliar per capita'})\n",
    "\n",
    "dadosCompletos15=dadosCompletos15.rename(columns={'V0232':'Microcomputador é utilizado para acessar a internet'})\n",
    "#dadosCompletos15=dadosCompletos15.rename(columns={'V02322':'Tem acesso à internet no próprio domicílio'})\n",
    "dadosCompletos15=dadosCompletos15.rename(columns={'V0231':'Tem microcomputador'})\n",
    "#dadosCompletos15=dadosCompletos15.rename(columns={'V02426':'O acesso à internet é feito por banda larga'})\n",
    "dadosCompletos15=dadosCompletos15.rename(columns={'V4621':'Rendimento mensal domiciliar per capita'})\n",
    "dadosCompletos15.head()'''\n",
    "\n",
    "dadosCompletos13=pd.DataFrame(dados13.loc[:,[\"V02322\", \"V02426\"]])\n",
    "dadosCompletos14=pd.DataFrame(dados14.loc[:,[\"V02322\", \"V02426\"]])\n",
    "dadosCompletos15=pd.DataFrame(dados15.loc[:,[\"V02322\", \"V02426\"]])\n"
   ]
  },
  {
   "cell_type": "code",
   "execution_count": 93,
   "metadata": {},
   "outputs": [
    {
     "data": {
      "text/html": [
       "<div>\n",
       "<style>\n",
       "    .dataframe thead tr:only-child th {\n",
       "        text-align: right;\n",
       "    }\n",
       "\n",
       "    .dataframe thead th {\n",
       "        text-align: left;\n",
       "    }\n",
       "\n",
       "    .dataframe tbody tr th {\n",
       "        vertical-align: top;\n",
       "    }\n",
       "</style>\n",
       "<table border=\"1\" class=\"dataframe\">\n",
       "  <thead>\n",
       "    <tr style=\"text-align: right;\">\n",
       "      <th>V02322</th>\n",
       "      <th>Sim</th>\n",
       "    </tr>\n",
       "    <tr>\n",
       "      <th>V02426</th>\n",
       "      <th></th>\n",
       "    </tr>\n",
       "  </thead>\n",
       "  <tbody>\n",
       "    <tr>\n",
       "      <th>Sim</th>\n",
       "      <td>47209</td>\n",
       "    </tr>\n",
       "    <tr>\n",
       "      <th>Não</th>\n",
       "      <td>20625</td>\n",
       "    </tr>\n",
       "  </tbody>\n",
       "</table>\n",
       "</div>"
      ],
      "text/plain": [
       "V02322    Sim\n",
       "V02426       \n",
       "Sim     47209\n",
       "Não     20625"
      ]
     },
     "execution_count": 93,
     "metadata": {},
     "output_type": "execute_result"
    }
   ],
   "source": [
    "ct1=pd.crosstab(dadosCompletos13.V02426, dadosCompletos13.V02322)\n",
    "ct2=pd.crosstab(dadosCompletos14.V02426, dadosCompletos14.V02322)\n",
    "ct3=pd.crosstab(dadosCompletos15.V02426, dadosCompletos15.V02322)\n",
    "\n",
    "ct3\n"
   ]
  },
  {
   "cell_type": "code",
   "execution_count": null,
   "metadata": {
    "collapsed": true
   },
   "outputs": [],
   "source": []
  },
  {
   "cell_type": "code",
   "execution_count": 79,
   "metadata": {
    "scrolled": false
   },
   "outputs": [
    {
     "data": {
      "image/png": "[encoded data removed]",
      "text/plain": [
       "<matplotlib.figure.Figure at 0x2174cd81b70>"
      ]
     },
     "metadata": {},
     "output_type": "display_data"
    }
   ],
   "source": [
    "fig = plt.figure(figsize=(15, 5))\n",
    "plt.subplot(131)\n",
    "plot=dados13.V02322.value_counts().plot(kind=\"pie\",colors=('blue', 'red'), autopct=\"%0.1f\",legend=False)\n",
    "\n",
    "plt.subplot(132)\n",
    "plot=dados14.V02322.value_counts().plot(kind=\"pie\",colors=('blue', 'red'), autopct=\"%0.1f\",legend=False)\n",
    "\n",
    "plt.subplot(133)\n",
    "plot=dados15.V02322.value_counts().plot(kind=\"pie\",colors=('blue', 'red'), autopct=\"%0.1f\",legend=False)"
   ]
  },
  {
   "cell_type": "code",
   "execution_count": 96,
   "metadata": {},
   "outputs": [
    {
     "data": {
      "text/plain": [
       "<matplotlib.axes._subplots.AxesSubplot at 0x2175099d668>"
      ]
     },
     "execution_count": 96,
     "metadata": {},
     "output_type": "execute_result"
    },
    {
     "data": {
      "image/png": "[encoded data removed]",
      "text/plain": [
       "<matplotlib.figure.Figure at 0x217509840b8>"
      ]
     },
     "metadata": {},
     "output_type": "display_data"
    }
   ],
   "source": [
    "ct=pd.crosstab(dados13.V02322, dados13.V02426,margins=True, rownames=['ESTADO'], colnames=['INTERNET'], normalize=True)*100\n",
    "ct.plot(kind=\"bar\")"
   ]
  },
  {
   "cell_type": "markdown",
   "metadata": {},
   "source": [
    "___\n",
    "## Conclusão "
   ]
  },
  {
   "cell_type": "markdown",
   "metadata": {
    "collapsed": true
   },
   "source": [
    "Descreva aqui suas conclusões!"
   ]
  },
  {
   "cell_type": "code",
   "execution_count": null,
   "metadata": {
    "collapsed": true
   },
   "outputs": [],
   "source": []
  }
 ],
 "metadata": {
  "anaconda-cloud": {},
  "kernelspec": {
   "display_name": "Python 3",
   "language": "python",
   "name": "python3"
  },
  "language_info": {
   "codemirror_mode": {
    "name": "ipython",
    "version": 3
   },
   "file_extension": ".py",
   "mimetype": "text/x-python",
   "name": "python",
   "nbconvert_exporter": "python",
   "pygments_lexer": "ipython3",
   "version": "3.6.1"
  }
 },
 "nbformat": 4,
 "nbformat_minor": 1
}
