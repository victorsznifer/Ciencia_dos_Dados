{
 "cells": [
  {
   "cell_type": "markdown",
   "metadata": {},
   "source": [
    "___\n",
    "# Ciência dos Dados - PROJETO 1"
   ]
  },
  {
   "cell_type": "markdown",
   "metadata": {},
   "source": [
    "## Victor Sznifer Leibovicius\n",
    "___"
   ]
  },
  {
   "cell_type": "markdown",
   "metadata": {},
   "source": [
    "## A evolução da renda e do acesso a internet no Brasil entre 2013 e 2015"
   ]
  },
  {
   "cell_type": "markdown",
   "metadata": {},
   "source": [
    " __\n",
    "## Introdução\n",
    "\n",
    "\n",
    "\n",
    "O mundo está cada vez mais digital. Hoje em dia, a internet se tornou um elemento democratizador da informação e conhecimento. Ter acesso a internet hoje em dia significa ter acesso a informação e conhecimento.\n",
    "Além disso, mundo está cada vez mais 'mobile', ou seja, as pessoas estão cada vez mais acessando a internet por meio de dispositivos móveis.\n",
    "Com esse trabalho, pretendo analisar como evoluiu o acesso a internet no Brasil, desde o ano de 2013 até 2015, assim como a renda, buscando assim, responder a pergunta:\n",
    "\"Como evoluiu o acesso a internet e a renda per capita domiciliar entre os anos de 2013 e 2015 no Brasil?\"\n"
   ]
  },
  {
   "cell_type": "markdown",
   "metadata": {},
   "source": [
    "___\n",
    "## Análise e Resultados"
   ]
  },
  {
   "cell_type": "code",
   "execution_count": 52,
   "metadata": {
    "collapsed": true
   },
   "outputs": [],
   "source": [
    "%matplotlib inline\n",
    "import pandas as pd\n",
    "import matplotlib.pyplot as plt\n",
    "import numpy as np\n",
    "import os"
   ]
  },
  {
   "cell_type": "code",
   "execution_count": 53,
   "metadata": {
    "scrolled": true
   },
   "outputs": [
    {
     "name": "stdout",
     "output_type": "stream",
     "text": [
      "Esperamos trabalhar no diretório\n",
      "C:\\Users\\victo\n"
     ]
    }
   ],
   "source": [
    "print('Esperamos trabalhar no diretório')\n",
    "print(os.getcwd())"
   ]
  },
  {
   "cell_type": "code",
   "execution_count": 54,
   "metadata": {
    "collapsed": true
   },
   "outputs": [],
   "source": [
    "#Se usar o arquivo descompactado\n",
    "dados=pd.read_csv('DOM2015.csv',sep=',')\n",
    "#Se usar o arquivo compactado como está no dropbox púbico\n",
    "#pd.read_csv('DOM2015csv.zip', compression='zip', header=0, sep=',', quotechar='\"')"
   ]
  },
  {
   "cell_type": "code",
   "execution_count": 55,
   "metadata": {},
   "outputs": [],
   "source": [
    "dadosI=dados.loc[:,{\"V02322\",\"V0231\",'V0232','V02426','V4621'}]\n",
    "dadosCompletos = dadosI[pd.notnull(dadosI.V0232)]\n",
    "#dadosCompletos=dadosCompletos.rename(columns={'V0232':'Microcomputador é utilizado para acessar a internet'})\n",
    "#dadosCompletos=dadosCompletos.rename(columns={'V02322':'Tem acesso à internet no próprio domicílio'})\n",
    "#dadosCompletos=dadosCompletos.rename(columns={'V0231':'Tem microcomputador'})\n",
    "#dadosCompletos=dadosCompletos.rename(columns={'V02426':'O acesso à internet é feito por banda larga'})\n",
    "#dadosCompletos=dadosCompletos.rename(columns={'V4621':'Rendimento mensal domiciliar per capita'})\n",
    "\n"
   ]
  },
  {
   "cell_type": "code",
   "execution_count": null,
   "metadata": {
    "collapsed": true
   },
   "outputs": [],
   "source": []
  },
  {
   "cell_type": "code",
   "execution_count": 56,
   "metadata": {
    "collapsed": true
   },
   "outputs": [],
   "source": [
    "#Le as bases de dados de 2013, 14 e 15\n",
    "dados13=pd.read_csv('DOM2013.csv',sep=',')\n",
    "dados14=pd.read_csv('DOM2014.csv',sep=',')\n",
    "dados15=pd.read_csv('DOM2015.csv',sep=',')"
   ]
  },
  {
   "cell_type": "code",
   "execution_count": null,
   "metadata": {
    "collapsed": true
   },
   "outputs": [],
   "source": []
  },
  {
   "cell_type": "code",
   "execution_count": 57,
   "metadata": {
    "collapsed": true
   },
   "outputs": [],
   "source": [
    "#Transforma a renda em float\n",
    "#dados13.V4621=dados13.V4621.astype('float')\n",
    "#dados14.V4621=dados14.V4621.astype('float')\n",
    "#dados15.V4621=dados15.V4621.astype('float')"
   ]
  },
  {
   "cell_type": "code",
   "execution_count": 58,
   "metadata": {
    "collapsed": true
   },
   "outputs": [],
   "source": [
    "#Transforma em Sim e não as respostas\n",
    "dados13.V02322=dados13.V02322.astype('category')\n",
    "dados14.V02322=dados14.V02322.astype('category')\n",
    "dados15.V02322=dados15.V02322.astype('category')\n",
    "dados13.V02322.cat.categories=([\"Sim\",\"Não\"])\n",
    "dados14.V02322.cat.categories=([\"Sim\",\"Não\"])\n",
    "dados15.V02322.cat.categories=([\"Sim\",\"Não\"])"
   ]
  },
  {
   "cell_type": "code",
   "execution_count": 59,
   "metadata": {
    "collapsed": true
   },
   "outputs": [],
   "source": [
    "#Transforma em Sim e não as respostas\n",
    "dados13.V02426=dados13.V02426.astype('category')\n",
    "dados14.V02426=dados14.V02426.astype('category')\n",
    "dados15.V02426=dados15.V02426.astype('category')\n",
    "dados13.V02426.cat.categories=([\"Sim\",\"Não\"])\n",
    "dados14.V02426.cat.categories=([\"Sim\",\"Não\"])\n",
    "dados15.V02426.cat.categories=([\"Sim\",\"Não\"])"
   ]
  },
  {
   "cell_type": "code",
   "execution_count": 60,
   "metadata": {
    "collapsed": true
   },
   "outputs": [],
   "source": [
    "#Transforma em Sim e não as respostas\n",
    "dados13.V0231=dados13.V0231.astype('category')\n",
    "dados14.V0231=dados14.V0231.astype('category')\n",
    "dados15.V0231=dados15.V0231.astype('category')\n",
    "dados13.V0231.cat.categories=([\"Sim\",\"Não\"])\n",
    "dados14.V0231.cat.categories=([\"Sim\",\"Não\"])\n",
    "dados15.V0231.cat.categories=([\"Sim\",\"Não\"])"
   ]
  },
  {
   "cell_type": "code",
   "execution_count": 61,
   "metadata": {
    "collapsed": true
   },
   "outputs": [],
   "source": [
    "#Transforma em Sim e não as respostas\n",
    "dados13.V0232=dados13.V0232.astype('category')\n",
    "dados14.V0232=dados14.V0232.astype('category')\n",
    "dados15.V0232=dados15.V0232.astype('category')\n",
    "dados13.V0232.cat.categories=([\"Sim\",\"Não\"])\n",
    "dados14.V0232.cat.categories=([\"Sim\",\"Não\"])\n",
    "dados15.V0232.cat.categories=([\"Sim\",\"Não\"])"
   ]
  },
  {
   "cell_type": "code",
   "execution_count": 74,
   "metadata": {
    "collapsed": true
   },
   "outputs": [],
   "source": [
    "#Transforma em Sim e não as respostas\n",
    "dados13.V02424=dados13.V0232.astype('category')\n",
    "dados14.V02424=dados14.V0232.astype('category')\n",
    "dados15.V02424=dados15.V0232.astype('category')\n",
    "dados13.V02424.cat.categories=([\"Sim\",\"Não\"])\n",
    "dados14.V02424.cat.categories=([\"Sim\",\"Não\"])\n",
    "dados15.V02424.cat.categories=([\"Sim\",\"Não\"])"
   ]
  },
  {
   "cell_type": "code",
   "execution_count": 62,
   "metadata": {
    "collapsed": true
   },
   "outputs": [],
   "source": [
    "#Pega a renda e se tem acesso a internet no domicilio\n",
    "dadosCompletos13=pd.DataFrame(dados13.loc[:,[\"V02322\", \"V02426\"]])\n",
    "dadosCompletos14=pd.DataFrame(dados14.loc[:,[\"V02322\", \"V02426\"]])\n",
    "dadosCompletos15=pd.DataFrame(dados15.loc[:,[\"V02322\", \"V02426\"]])"
   ]
  },
  {
   "cell_type": "code",
   "execution_count": 63,
   "metadata": {},
   "outputs": [
    {
     "data": {
      "text/html": [
       "<div>\n",
       "<style>\n",
       "    .dataframe thead tr:only-child th {\n",
       "        text-align: right;\n",
       "    }\n",
       "\n",
       "    .dataframe thead th {\n",
       "        text-align: left;\n",
       "    }\n",
       "\n",
       "    .dataframe tbody tr th {\n",
       "        vertical-align: top;\n",
       "    }\n",
       "</style>\n",
       "<table border=\"1\" class=\"dataframe\">\n",
       "  <thead>\n",
       "    <tr style=\"text-align: right;\">\n",
       "      <th>V02322</th>\n",
       "      <th>Sim</th>\n",
       "    </tr>\n",
       "    <tr>\n",
       "      <th>V02426</th>\n",
       "      <th></th>\n",
       "    </tr>\n",
       "  </thead>\n",
       "  <tbody>\n",
       "    <tr>\n",
       "      <th>Sim</th>\n",
       "      <td>47209</td>\n",
       "    </tr>\n",
       "    <tr>\n",
       "      <th>Não</th>\n",
       "      <td>20625</td>\n",
       "    </tr>\n",
       "  </tbody>\n",
       "</table>\n",
       "</div>"
      ],
      "text/plain": [
       "V02322    Sim\n",
       "V02426       \n",
       "Sim     47209\n",
       "Não     20625"
      ]
     },
     "execution_count": 63,
     "metadata": {},
     "output_type": "execute_result"
    }
   ],
   "source": [
    "#Cruza as respostas de renda e se tem acesso a internet no domicilio\n",
    "ct1=pd.crosstab(dadosCompletos13.V02426, dadosCompletos13.V02322)\n",
    "ct2=pd.crosstab(dadosCompletos14.V02426, dadosCompletos14.V02322)\n",
    "ct3=pd.crosstab(dadosCompletos15.V02426, dadosCompletos15.V02322)\n",
    "\n",
    "ct1\n",
    "ct2\n",
    "ct3\n"
   ]
  },
  {
   "cell_type": "code",
   "execution_count": 64,
   "metadata": {},
   "outputs": [
    {
     "data": {
      "text/plain": [
       "<matplotlib.axes._subplots.AxesSubplot at 0x1f03340d4e0>"
      ]
     },
     "execution_count": 64,
     "metadata": {},
     "output_type": "execute_result"
    },
    {
     "data": {
      "image/png": "[encoded data removed]",
      "text/plain": [
       "<matplotlib.figure.Figure at 0x1f0336d4b38>"
      ]
     },
     "metadata": {},
     "output_type": "display_data"
    }
   ],
   "source": [
    "ct=pd.crosstab(dados13.V02322, dados13.V02426,margins=True, rownames=['ESTADO'], colnames=['INTERNET'], normalize=True)*100\n",
    "ct.plot(kind=\"bar\")"
   ]
  },
  {
   "cell_type": "code",
   "execution_count": 129,
   "metadata": {},
   "outputs": [
    {
     "data": {
      "text/plain": [
       "<matplotlib.text.Text at 0x1f000611710>"
      ]
     },
     "execution_count": 129,
     "metadata": {},
     "output_type": "execute_result"
    },
    {
     "data": {
      "image/png": "[encoded data removed]",
      "text/plain": [
       "<matplotlib.figure.Figure at 0x1f0001b92e8>"
      ]
     },
     "metadata": {},
     "output_type": "display_data"
    }
   ],
   "source": [
    "#Plota os graficos de se tem acesso a internet no proprio domicilio\n",
    "fig = plt.figure(figsize=(16, 5))\n",
    "plt.subplot(131)\n",
    "plot=dados13.V02322.value_counts().plot(kind=\"pie\",colors=('blue', 'red'), autopct=\"%0.1f\",legend=True)\n",
    "plt.title(\"Tem acesso a internet no próprio domicílio(2013)\")\n",
    "\n",
    "plt.subplot(132)\n",
    "plot=dados14.V02322.value_counts().plot(kind=\"pie\",colors=('blue', 'red'), autopct=\"%0.1f\",legend=True)\n",
    "plt.title(\"Tem acesso a internet no próprio domicílio(2014)\")\n",
    "\n",
    "plt.subplot(133)\n",
    "plot=dados15.V02322.value_counts().plot(kind=\"pie\",colors=('blue', 'red'), autopct=\"%0.1f\",legend=True)\n",
    "plt.title(\"Tem acesso a internet no próprio domicílio(2015)\")"
   ]
  },
  {
   "cell_type": "code",
   "execution_count": 130,
   "metadata": {},
   "outputs": [
    {
     "data": {
      "text/plain": [
       "<matplotlib.text.Text at 0x1f000be5390>"
      ]
     },
     "execution_count": 130,
     "metadata": {},
     "output_type": "execute_result"
    },
    {
     "data": {
      "image/png": "[encoded data removed]",
      "text/plain": [
       "<matplotlib.figure.Figure at 0x1f001fa7668>"
      ]
     },
     "metadata": {},
     "output_type": "display_data"
    }
   ],
   "source": [
    "#Plota os graficos de se o acesso a internet é feito por banda larga\n",
    "fig = plt.figure(figsize=(15, 5))\n",
    "plt.subplot(131)\n",
    "plot=dados13.V02426.value_counts().plot(kind=\"pie\",colors=('blue', 'red'), autopct=\"%0.1f\",legend=True)\n",
    "plt.title(\"Acesso feito por banda larga(2013)\")\n",
    "\n",
    "plt.subplot(132)\n",
    "plot=dados14.V02426.value_counts().plot(kind=\"pie\",colors=('blue', 'red'), autopct=\"%0.1f\",legend=True)\n",
    "plt.title(\"Acesso feito por banda larga(2014)\")\n",
    "\n",
    "plt.subplot(133)\n",
    "plot=dados15.V02426.value_counts().plot(kind=\"pie\",colors=('blue', 'red'), autopct=\"%0.1f\",legend=True)\n",
    "plt.title(\"Acesso feito por banda larga(2015)\")"
   ]
  },
  {
   "cell_type": "code",
   "execution_count": 132,
   "metadata": {},
   "outputs": [
    {
     "data": {
      "text/plain": [
       "<matplotlib.text.Text at 0x1f00279dd30>"
      ]
     },
     "execution_count": 132,
     "metadata": {},
     "output_type": "execute_result"
    },
    {
     "data": {
      "image/png": "[encoded data removed]",
      "text/plain": [
       "<matplotlib.figure.Figure at 0x1f001ff0908>"
      ]
     },
     "metadata": {},
     "output_type": "display_data"
    }
   ],
   "source": [
    "#Plota os graficos de se o acesso a internet é feito por 3g ou 4g\n",
    "fig = plt.figure(figsize=(15, 5))\n",
    "plt.subplot(131)\n",
    "plot=dados13.V02424.value_counts().plot(kind=\"pie\",colors=('blue', 'red'), autopct=\"%0.1f\",legend=True)\n",
    "plt.title(\"Acesso feito por rede 3g ou 4g(2013)\")\n",
    "\n",
    "plt.subplot(132)\n",
    "plot=dados14.V02424.value_counts().plot(kind=\"pie\",colors=('blue', 'red'), autopct=\"%0.1f\",legend=True)\n",
    "plt.title(\"Acesso feito por rede 3g ou 4g(2014)\")\n",
    "\n",
    "plt.subplot(133)\n",
    "plot=dados15.V02424.value_counts().plot(kind=\"pie\",colors=('blue', 'red'), autopct=\"%0.1f\",legend=True)\n",
    "plt.title(\"Acesso feito por rede 3g ou 4g(2015)\")"
   ]
  },
  {
   "cell_type": "code",
   "execution_count": 133,
   "metadata": {
    "scrolled": false
   },
   "outputs": [],
   "source": [
    "#plota o gráfico de renda\n",
    "from numpy import zeros_like\n",
    "\n",
    "dados13 = dados13[(dados13.V4621.notnull())]\n",
    "dados14 = dados14[(dados14.V4621.notnull())]\n",
    "dados15 = dados15[(dados15.V4621.notnull())]\n",
    "dados13 = dados13[dados13.V4621!=999999999999]\n",
    "dados14 = dados14[dados14.V4621!=999999999999]\n",
    "dados15 = dados15[dados15.V4621!=999999999999]\n",
    "\n",
    "renda13_cat=pd.cut(dados13.V4621, bins=10)\n",
    "renda14_cat=pd.cut(dados14.V4621, bins=10)\n",
    "renda15_cat=pd.cut(dados15.V4621, bins=10)\n",
    "\n",
    "faixa=range(0,80001,678)\n",
    "renda13_cat=pd.cut(dados13.V4621, bins=faixa)\n",
    "\n",
    "\n",
    "\n"
   ]
  },
  {
   "cell_type": "code",
   "execution_count": null,
   "metadata": {
    "collapsed": true
   },
   "outputs": [],
   "source": []
  },
  {
   "cell_type": "code",
   "execution_count": 134,
   "metadata": {},
   "outputs": [],
   "source": [
    "faixa=range(0,80001,724)\n",
    "renda14_cat=pd.cut(dados14.V4621, bins=faixa)\n"
   ]
  },
  {
   "cell_type": "code",
   "execution_count": 135,
   "metadata": {},
   "outputs": [],
   "source": [
    "faixa=range(0,10000,788)\n",
    "renda15_cat=pd.cut(dados15.V4621, bins=faixa)\n"
   ]
  },
  {
   "cell_type": "code",
   "execution_count": 136,
   "metadata": {},
   "outputs": [
    {
     "data": {
      "image/png": "[encoded data removed]",
      "text/plain": [
       "<matplotlib.figure.Figure at 0x1f000c48e80>"
      ]
     },
     "metadata": {},
     "output_type": "display_data"
    }
   ],
   "source": [
    "plot=dados13.V4621.plot.hist(bins=faixa, title=\"Renda Mensal per Capita\", weights=zeros_like(dados13.V4621)+1./dados13.V4621.size*100, figsize=(6,6), alpha=0.9)\n",
    "plt.xlabel=(\"renda mensal\")\n",
    "plt.ylabel=(\"porcentagem\")"
   ]
  },
  {
   "cell_type": "code",
   "execution_count": 137,
   "metadata": {
    "scrolled": true
   },
   "outputs": [
    {
     "data": {
      "image/png": "[encoded data removed]",
      "text/plain": [
       "<matplotlib.figure.Figure at 0x1f002893fd0>"
      ]
     },
     "metadata": {},
     "output_type": "display_data"
    }
   ],
   "source": [
    "plot=dados14.V4621.plot.hist(bins=faixa, title=\"Renda Mensal per Capita\", weights=zeros_like(dados14.V4621)+1./dados14.V4621.size*100, figsize=(6,6), alpha=0.9)\n",
    "plt.xlabel=(\"renda mensal\")\n",
    "plt.ylabel=(\"porcentagem\")"
   ]
  },
  {
   "cell_type": "code",
   "execution_count": 138,
   "metadata": {},
   "outputs": [
    {
     "data": {
      "image/png": "[encoded data removed]",
      "text/plain": [
       "<matplotlib.figure.Figure at 0x1f0053e8e10>"
      ]
     },
     "metadata": {},
     "output_type": "display_data"
    }
   ],
   "source": [
    "plot=dados15.V4621.plot.hist(bins=faixa, title=\"Renda Mensal per Capita\", weights=zeros_like(dados15.V4621)+1./dados15.V4621.size*100, figsize=(6,6), alpha=0.9)\n",
    "plt.xlabel=(\"renda mensal\")\n",
    "plt.ylabel=(\"porcentagem\")"
   ]
  },
  {
   "cell_type": "code",
   "execution_count": 139,
   "metadata": {},
   "outputs": [
    {
     "data": {
      "text/plain": [
       "count    111029.000000\n",
       "mean       1109.552360\n",
       "std        1800.669861\n",
       "min           0.000000\n",
       "25%         357.000000\n",
       "50%         678.000000\n",
       "75%        1189.000000\n",
       "max       82000.000000\n",
       "Name: V4621, dtype: float64"
      ]
     },
     "execution_count": 139,
     "metadata": {},
     "output_type": "execute_result"
    }
   ],
   "source": [
    "dados13.V4621.describe()"
   ]
  },
  {
   "cell_type": "code",
   "execution_count": 140,
   "metadata": {},
   "outputs": [
    {
     "data": {
      "text/plain": [
       "count    115021.000000\n",
       "mean       1225.589292\n",
       "std        2153.332121\n",
       "min           0.000000\n",
       "25%         406.000000\n",
       "50%         724.000000\n",
       "75%        1300.000000\n",
       "max      331200.000000\n",
       "Name: V4621, dtype: float64"
      ]
     },
     "execution_count": 140,
     "metadata": {},
     "output_type": "execute_result"
    }
   ],
   "source": [
    "dados14.V4621.describe()"
   ]
  },
  {
   "cell_type": "code",
   "execution_count": 141,
   "metadata": {},
   "outputs": [
    {
     "data": {
      "text/plain": [
       "count    115626.000000\n",
       "mean       1250.046391\n",
       "std        1957.210132\n",
       "min           0.000000\n",
       "25%         416.000000\n",
       "50%         788.000000\n",
       "75%        1333.000000\n",
       "max      150000.000000\n",
       "Name: V4621, dtype: float64"
      ]
     },
     "execution_count": 141,
     "metadata": {},
     "output_type": "execute_result"
    }
   ],
   "source": [
    "dados15.V4621.describe()"
   ]
  },
  {
   "cell_type": "markdown",
   "metadata": {},
   "source": [
    "___\n",
    "## Conclusão "
   ]
  },
  {
   "cell_type": "markdown",
   "metadata": {
    "collapsed": true
   },
   "source": [
    "Ao analisar os gráficos e tabelas da renda domiciliar per capita, foi possível perceber que a média de renda do cidadão brasileiro aumentou em quase 40 reais mensais entre 2013 e 2015.\n",
    "Também foi possível perceber que a quantidade da brasileiros com acesso a internet em seus próprios domicílios aumentou em 4,2 por cento. Além disso, o acesso a internet por dispositivos móveis vem se consolidando cada vez mais como o principal meio de acesso, já que em 2013, 74,2 por cento dos brasileiros que acessaram a internet em seus próprios domicílios o fizeram por banda larga, enquanto 86 por cento o fizeram por rede de celular (3g ou 4g), lembrando que quem acessa a internet por meio da rede de celular, também o pode fazer por rede banda larga. Já em 2015 essa diferença aumentou ainda mais, sendo que 69.3 por cento acessou a internet por banda larga enquanto 86.8 por cento o fez por rede de celular.\n",
    "\n",
    "É possível fazer a relação entre aumento de renda e aumento de acesso a internet. Com o avanço das tecnologias, o acesso a internet está cada vez mais fácil e barato. A importância da internet está cada vez mais difundida entre a população e como a renda do brasileiro vem aumentando ano a ano, por consequência, o acesso a internet também."
   ]
  },
  {
   "cell_type": "code",
   "execution_count": null,
   "metadata": {
    "collapsed": true
   },
   "outputs": [],
   "source": [
    "Fontes:\n",
    "    \n",
    "    http://agenciabrasil.ebc.com.br/pesquisa-e-inovacao/noticia/2016-09/pesquisa-mostra-que-58-da-populacao-brasileira-usam-internet\n",
    "    http://agenciabrasil.ebc.com.br/geral/noticia/2016-12/ibge-celular-se-consolida-como-o-principal-meio-de-acesso-internet-no-brasil"
   ]
  }
 ],
 "metadata": {
  "anaconda-cloud": {},
  "kernelspec": {
   "display_name": "Python 3",
   "language": "python",
   "name": "python3"
  },
  "language_info": {
   "codemirror_mode": {
    "name": "ipython",
    "version": 3
   },
   "file_extension": ".py",
   "mimetype": "text/x-python",
   "name": "python",
   "nbconvert_exporter": "python",
   "pygments_lexer": "ipython3",
   "version": "3.6.1"
  }
 },
 "nbformat": 4,
 "nbformat_minor": 1
}
